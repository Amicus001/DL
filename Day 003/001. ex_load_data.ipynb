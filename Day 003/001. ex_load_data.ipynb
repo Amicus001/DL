{
 "cells": [
  {
   "cell_type": "markdown",
   "source": [
    "## 데이터 로딩 및 텐서 변환\n",
    "<hr>"
   ],
   "metadata": {
    "collapsed": false
   },
   "id": "8a822f8742e23c2b"
  },
  {
   "cell_type": "code",
   "outputs": [],
   "source": [
    "# 모듈 로딩\n",
    "import imageio.v2 as imageio #이미지데이터 관련 모듈\n",
    "import torch"
   ],
   "metadata": {
    "collapsed": false,
    "ExecuteTime": {
     "end_time": "2024-03-13T04:56:06.264990Z",
     "start_time": "2024-03-13T04:56:06.253425Z"
    }
   },
   "id": "b66b5eb122d4ad50",
   "execution_count": 5
  },
  {
   "cell_type": "code",
   "outputs": [],
   "source": [
    "# 이미지데이터 로딩\n",
    "filename = '../img/okyoungsin.jpg'"
   ],
   "metadata": {
    "collapsed": false,
    "ExecuteTime": {
     "end_time": "2024-03-13T04:56:06.757361Z",
     "start_time": "2024-03-13T04:56:06.739066Z"
    }
   },
   "id": "b653708868ab9bd3",
   "execution_count": 6
  },
  {
   "cell_type": "code",
   "outputs": [],
   "source": [
    "imgdata = imageio.imread(filename)"
   ],
   "metadata": {
    "collapsed": false,
    "ExecuteTime": {
     "end_time": "2024-03-13T04:57:31.588932Z",
     "start_time": "2024-03-13T04:57:31.559621Z"
    }
   },
   "id": "972fe8ab396ff816",
   "execution_count": 9
  },
  {
   "cell_type": "code",
   "outputs": [
    {
     "name": "stdout",
     "output_type": "stream",
     "text": [
      "(1496, 1496, 3) 3\n"
     ]
    }
   ],
   "source": [
    "#ndarray 타입의 이미지 데이터\n",
    "print(imgdata.shape, imgdata.ndim)"
   ],
   "metadata": {
    "collapsed": false,
    "ExecuteTime": {
     "end_time": "2024-03-13T04:58:43.259680Z",
     "start_time": "2024-03-13T04:58:43.249682Z"
    }
   },
   "id": "9f835b625e0e3069",
   "execution_count": 11
  },
  {
   "cell_type": "code",
   "outputs": [],
   "source": [
    "#ndarray -> tensor 변환 [행(높이), 열(너비), 채널]\n",
    "\n",
    "img_t1 = torch.tensor(imgdata)\n",
    "img_t2 = torch.from_numpy(imgdata)\n",
    "img_t3 = torch.as_tensor(imgdata)"
   ],
   "metadata": {
    "collapsed": false,
    "ExecuteTime": {
     "end_time": "2024-03-13T04:59:45.336355Z",
     "start_time": "2024-03-13T04:59:45.312486Z"
    }
   },
   "id": "1cbf0ef5498ffa51",
   "execution_count": 12
  },
  {
   "cell_type": "code",
   "outputs": [
    {
     "name": "stdout",
     "output_type": "stream",
     "text": [
      "torch.Size([1496, 1496, 3]) 3\n",
      "torch.Size([1496, 1496, 3]) 3\n",
      "torch.Size([1496, 1496, 3]) 3\n"
     ]
    }
   ],
   "source": [
    "print(img_t1.shape, img_t1.ndim)\n",
    "print(img_t2.shape, img_t2.ndim)\n",
    "print(img_t3.shape, img_t3.ndim)"
   ],
   "metadata": {
    "collapsed": false,
    "ExecuteTime": {
     "end_time": "2024-03-13T05:00:15.323987Z",
     "start_time": "2024-03-13T05:00:15.311579Z"
    }
   },
   "id": "40ef6cfc4b01a3bf",
   "execution_count": 13
  },
  {
   "cell_type": "code",
   "outputs": [
    {
     "data": {
      "text/plain": "torch.Size([3, 1496, 1496])"
     },
     "execution_count": 15,
     "metadata": {},
     "output_type": "execute_result"
    }
   ],
   "source": [
    "# [행(높이), 열(너비), 채널]=> [채널, 행(높이), 열(너비)]\n",
    "img_t1.permute(2,0,1).shape"
   ],
   "metadata": {
    "collapsed": false,
    "ExecuteTime": {
     "end_time": "2024-03-13T05:05:38.132284Z",
     "start_time": "2024-03-13T05:05:38.116796Z"
    }
   },
   "id": "e53b3e3288b734a0",
   "execution_count": 15
  },
  {
   "cell_type": "code",
   "outputs": [],
   "source": [],
   "metadata": {
    "collapsed": false
   },
   "id": "e5fd3ed08a9cec5a"
  }
 ],
 "metadata": {
  "kernelspec": {
   "display_name": "Python 3",
   "language": "python",
   "name": "python3"
  },
  "language_info": {
   "codemirror_mode": {
    "name": "ipython",
    "version": 2
   },
   "file_extension": ".py",
   "mimetype": "text/x-python",
   "name": "python",
   "nbconvert_exporter": "python",
   "pygments_lexer": "ipython2",
   "version": "2.7.6"
  }
 },
 "nbformat": 4,
 "nbformat_minor": 5
}
