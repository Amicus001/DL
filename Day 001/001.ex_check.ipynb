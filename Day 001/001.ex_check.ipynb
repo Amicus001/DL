{
 "cells": [
  {
   "cell_type": "code",
   "execution_count": 3,
   "id": "initial_id",
   "metadata": {
    "collapsed": true,
    "ExecuteTime": {
     "end_time": "2024-03-11T00:46:20.703467Z",
     "start_time": "2024-03-11T00:46:20.691327Z"
    }
   },
   "outputs": [],
   "source": [
    "# module loading & virsion check\n",
    "\n",
    "import pandas as pd\n",
    "import numpy as np\n",
    "import matplotlib as mpl\n",
    "import seaborn as sns\n",
    "import sklearn as sk\n",
    "import torch"
   ]
  },
  {
   "cell_type": "code",
   "outputs": [
    {
     "name": "stdout",
     "output_type": "stream",
     "text": [
      "[Pandas] version: 2.0.3\n",
      "[Numpy] version: 1.24.3\n",
      "[Matplotlib] version: 3.7.2\n",
      "[SeaBorn] version: 0.12.2\n",
      "[Scikit-learn] version: 1.3.0\n",
      "[Pytorch] version: 2.2.0\n"
     ]
    }
   ],
   "source": [
    "#virsion info print\n",
    "\n",
    "print(f'[Pandas] version: {pd.__version__}')\n",
    "print(f'[Numpy] version: {np.__version__}')\n",
    "print(f'[Matplotlib] version: {mpl.__version__}')\n",
    "print(f'[SeaBorn] version: {sns.__version__}')\n",
    "print(f'[Scikit-learn] version: {sk.__version__}')\n",
    "print(f'[Pytorch] version: {torch.__version__}')"
   ],
   "metadata": {
    "collapsed": false,
    "ExecuteTime": {
     "end_time": "2024-03-11T00:46:33.288120Z",
     "start_time": "2024-03-11T00:46:33.266835Z"
    }
   },
   "id": "d334a2337a50b436",
   "execution_count": 5
  },
  {
   "cell_type": "code",
   "outputs": [
    {
     "name": "stdout",
     "output_type": "stream",
     "text": [
      "GPU = False\n"
     ]
    }
   ],
   "source": [
    "# 해당 PC에 GPU 사용 여부\n",
    "print(f'GPU = {torch.cuda.is_available()}')"
   ],
   "metadata": {
    "collapsed": false,
    "ExecuteTime": {
     "end_time": "2024-03-11T00:49:48.142801Z",
     "start_time": "2024-03-11T00:49:48.125995Z"
    }
   },
   "id": "6a76bf28783cab05",
   "execution_count": 6
  },
  {
   "cell_type": "code",
   "outputs": [],
   "source": [
    "# 저장 및 실행 디바이스 설정\n",
    "DEVICE = 'gpu' if torch.cuda.is_available()else 'cpu'"
   ],
   "metadata": {
    "collapsed": false
   },
   "id": "48c0d7b34c42325a"
  }
 ],
 "metadata": {
  "kernelspec": {
   "display_name": "Python 3",
   "language": "python",
   "name": "python3"
  },
  "language_info": {
   "codemirror_mode": {
    "name": "ipython",
    "version": 2
   },
   "file_extension": ".py",
   "mimetype": "text/x-python",
   "name": "python",
   "nbconvert_exporter": "python",
   "pygments_lexer": "ipython2",
   "version": "2.7.6"
  }
 },
 "nbformat": 4,
 "nbformat_minor": 5
}
