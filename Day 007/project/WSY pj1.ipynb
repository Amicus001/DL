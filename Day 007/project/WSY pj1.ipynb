{
 "cells": [
  {
   "cell_type": "markdown",
   "source": [
    "### MAIN THEME: 해파리 품종 분류모델 만들기\n",
    "- data ; datas/Project Jellyfish 폴더의 모든 데이터\n",
    "- 다중 분류\n",
    "- "
   ],
   "metadata": {
    "collapsed": false
   },
   "id": "3865ae5c4fb75ff9"
  },
  {
   "cell_type": "code",
   "outputs": [],
   "source": [
    "# 모델 불러오기\n",
    "import pandas as pd\n",
    "import numpy as np\n",
    "\n",
    "import PIL.Image as Image\n",
    "import matplotlib.pyplot as plt\n",
    "\n",
    "import time\n",
    "\n",
    "import torch\n",
    "import torch.nn.functional as F\n",
    "from torch.optim import lr_scheduler\n",
    "from torchvision import models\n",
    "from torchvision.datasets import ImageFolder\n",
    "\n",
    "\n",
    "import os\n",
    "from glob import glob\n",
    "from sklearn.model_selection import train_test_split,KFold\n",
    "from sklearn.metrics import confusion_matrix, accuracy_score, classification_report, f1_score\n",
    "import seaborn as sns\n",
    "import cv2\n"
   ],
   "metadata": {
    "collapsed": false,
    "ExecuteTime": {
     "end_time": "2024-03-20T05:32:16.380961Z",
     "start_time": "2024-03-20T05:32:16.365646Z"
    }
   },
   "id": "1ed6d8d918bd5e41",
   "execution_count": 257
  },
  {
   "cell_type": "code",
   "outputs": [],
   "source": [
    "#!pip install torchsummary\n"
   ],
   "metadata": {
    "collapsed": false,
    "ExecuteTime": {
     "end_time": "2024-03-20T05:32:16.977045Z",
     "start_time": "2024-03-20T05:32:16.960256Z"
    }
   },
   "id": "bd31b4bc5145689f",
   "execution_count": 258
  },
  {
   "cell_type": "code",
   "outputs": [],
   "source": [],
   "metadata": {
    "collapsed": false,
    "ExecuteTime": {
     "end_time": "2024-03-20T05:32:17.211374Z",
     "start_time": "2024-03-20T05:32:17.198416Z"
    }
   },
   "id": "524be945c6494ead",
   "execution_count": 258
  },
  {
   "cell_type": "code",
   "outputs": [],
   "source": [
    "# 모든 하위 폴더의 이미지 확인하기\n",
    "file_folder = '../../datas/Project Jellyfish/Train_Test_Valid/Train'\n",
    "\n",
    "trainimagelist = []\n",
    "for folder in os.listdir(file_folder):  # 폴더 내 파일의 이름을 리스트로 저장\n",
    "    for file in os.listdir(os.path.join(file_folder, folder)):  # 폴더 내 파일의 이름을 리스트로 저장\n",
    "        image_path = os.path.join(file_folder, folder, file)    # 이미지 경로\n",
    "        img = cv2.imread(image_path, cv2.IMREAD_GRAYSCALE)  # 이미지 흑백으로 불러오기\n",
    "        img_np = img.squeeze()  # 이미지 출력\n",
    "        trainimagelist.append(img_np)\n",
    "        #plt.imshow(img_np, cmap='gray') \n",
    "        #plt.show()\n",
    "        \n",
    "## img.np에 append 하기"
   ],
   "metadata": {
    "collapsed": false,
    "ExecuteTime": {
     "end_time": "2024-03-20T05:32:17.743567Z",
     "start_time": "2024-03-20T05:32:17.410025Z"
    }
   },
   "id": "cb8eaf560326d94b",
   "execution_count": 259
  },
  {
   "cell_type": "markdown",
   "source": [
    "feature / target 분리, 정규화"
   ],
   "metadata": {
    "collapsed": false
   },
   "id": "44b5cf82405ff341"
  },
  {
   "cell_type": "code",
   "outputs": [],
   "source": [
    "def load_images_from_folder(folder_path):\n",
    "    subdirs = [f for f in os.listdir(folder_path)]\n",
    "    \n",
    "    datalist=[]\n",
    "    labellist = []\n",
    "    \n",
    "    for sub in subdirs:\n",
    "        \n",
    "        subdir = folder_path + sub +'/'\n",
    "        imgfile = [f for f in os.listdir(subdir)]\n",
    "        \n",
    "        for f in imgfile:\n",
    "            img_path = subdir + f\n",
    "            img = cv2.imread(img_path, cv2.IMREAD_GRAYSCALE)\n",
    "            img = cv2.resize(np.array(img),(150,150))\n",
    "            img=img/255.\n",
    "            datalist.append(img)\n",
    "            labellist.append(sub)\n",
    "    return np.array(datalist),np.array(labellist)"
   ],
   "metadata": {
    "collapsed": false,
    "ExecuteTime": {
     "end_time": "2024-03-20T05:32:17.822583Z",
     "start_time": "2024-03-20T05:32:17.814610Z"
    }
   },
   "id": "d287ac78ee7bc1b9",
   "execution_count": 260
  },
  {
   "cell_type": "code",
   "outputs": [],
   "source": [],
   "metadata": {
    "collapsed": false,
    "ExecuteTime": {
     "end_time": "2024-03-20T05:32:18.013235Z",
     "start_time": "2024-03-20T05:32:18.000198Z"
    }
   },
   "id": "4affd66459d4e17a",
   "execution_count": 260
  },
  {
   "cell_type": "code",
   "outputs": [],
   "source": [
    "trainpath = '../../datas/Project Jellyfish/Train_Test_Valid/Train/'\n",
    "testpath = '../../datas/Project Jellyfish/Train_Test_Valid/test/'\n",
    "validpath = '../../datas/Project Jellyfish/Train_Test_Valid/valid/'\n",
    "trainimage,trlable = load_images_from_folder(trainpath)\n",
    "testimage,tstlable  = load_images_from_folder(testpath)\n",
    "validimage,vllable = load_images_from_folder(validpath)\n",
    "\n",
    "# 매칭?\n",
    "# 데이터 양? -> 늘려보자"
   ],
   "metadata": {
    "collapsed": false,
    "ExecuteTime": {
     "end_time": "2024-03-20T05:32:18.699654Z",
     "start_time": "2024-03-20T05:32:18.195378Z"
    }
   },
   "id": "fdff35729a440cb",
   "execution_count": 261
  },
  {
   "cell_type": "code",
   "outputs": [
    {
     "data": {
      "text/plain": "array([[[0.25490196, 0.25882353, 0.25882353, ..., 0.31372549,\n         0.32156863, 0.32941176],\n        [0.25490196, 0.25882353, 0.2627451 , ..., 0.30980392,\n         0.3254902 , 0.3372549 ],\n        [0.25490196, 0.2627451 , 0.26666667, ..., 0.30196078,\n         0.30196078, 0.30588235],\n        ...,\n        [0.24313725, 0.21960784, 0.2       , ..., 0.49411765,\n         0.48627451, 0.45882353],\n        [0.22745098, 0.23137255, 0.21176471, ..., 0.56862745,\n         0.54509804, 0.48627451],\n        [0.21176471, 0.23921569, 0.22352941, ..., 0.47058824,\n         0.5372549 , 0.54509804]],\n\n       [[0.49803922, 0.50588235, 0.57647059, ..., 0.10588235,\n         0.10588235, 0.10196078],\n        [0.47058824, 0.49411765, 0.54901961, ..., 0.10980392,\n         0.10588235, 0.10588235],\n        [0.44705882, 0.47058824, 0.51764706, ..., 0.11372549,\n         0.10980392, 0.10980392],\n        ...,\n        [0.0627451 , 0.0627451 , 0.0627451 , ..., 0.00392157,\n         0.00392157, 0.00392157],\n        [0.06666667, 0.0627451 , 0.0627451 , ..., 0.00392157,\n         0.00392157, 0.00392157],\n        [0.06666667, 0.06666667, 0.0627451 , ..., 0.00392157,\n         0.00392157, 0.00392157]],\n\n       [[0.62745098, 0.63529412, 0.62352941, ..., 0.74509804,\n         0.74117647, 0.7372549 ],\n        [0.61960784, 0.61176471, 0.59215686, ..., 0.74509804,\n         0.74117647, 0.7372549 ],\n        [0.59607843, 0.57647059, 0.55294118, ..., 0.74509804,\n         0.74117647, 0.7372549 ],\n        ...,\n        [0.4745098 , 0.4627451 , 0.46666667, ..., 0.50588235,\n         0.50588235, 0.49803922],\n        [0.44313725, 0.43529412, 0.4745098 , ..., 0.52156863,\n         0.50980392, 0.49019608],\n        [0.50588235, 0.51764706, 0.5254902 , ..., 0.48627451,\n         0.49411765, 0.49803922]],\n\n       ...,\n\n       [[0.49411765, 0.41960784, 0.39215686, ..., 0.28627451,\n         0.29411765, 0.28235294],\n        [0.45098039, 0.40392157, 0.41176471, ..., 0.28235294,\n         0.27058824, 0.45882353],\n        [0.58823529, 0.55294118, 0.55294118, ..., 0.27058824,\n         0.29411765, 0.59215686],\n        ...,\n        [0.30196078, 0.29019608, 0.29019608, ..., 0.2745098 ,\n         0.27058824, 0.27058824],\n        [0.30196078, 0.29019608, 0.29019608, ..., 0.2745098 ,\n         0.27058824, 0.27058824],\n        [0.30196078, 0.29019608, 0.29019608, ..., 0.2745098 ,\n         0.27058824, 0.27058824]],\n\n       [[0.09411765, 0.09411765, 0.09411765, ..., 0.08235294,\n         0.0745098 , 0.05882353],\n        [0.09411765, 0.09411765, 0.09411765, ..., 0.08235294,\n         0.0745098 , 0.0627451 ],\n        [0.09411765, 0.09411765, 0.09411765, ..., 0.08627451,\n         0.08235294, 0.06666667],\n        ...,\n        [0.03921569, 0.03921569, 0.03921569, ..., 0.02745098,\n         0.02745098, 0.02745098],\n        [0.03921569, 0.03921569, 0.03921569, ..., 0.02745098,\n         0.02352941, 0.02352941],\n        [0.03921569, 0.03921569, 0.03921569, ..., 0.02745098,\n         0.02352941, 0.02352941]],\n\n       [[0.05098039, 0.05098039, 0.07843137, ..., 0.14509804,\n         0.1372549 , 0.1372549 ],\n        [0.05098039, 0.05098039, 0.06666667, ..., 0.14901961,\n         0.15294118, 0.15294118],\n        [0.05490196, 0.05098039, 0.05882353, ..., 0.15294118,\n         0.15686275, 0.15686275],\n        ...,\n        [0.05882353, 0.05882353, 0.05882353, ..., 0.1254902 ,\n         0.11764706, 0.11764706],\n        [0.05882353, 0.05882353, 0.05882353, ..., 0.12156863,\n         0.12156863, 0.11764706],\n        [0.05882353, 0.05882353, 0.05882353, ..., 0.12156863,\n         0.12156863, 0.1254902 ]]])"
     },
     "execution_count": 282,
     "metadata": {},
     "output_type": "execute_result"
    }
   ],
   "source": [
    "validimage"
   ],
   "metadata": {
    "collapsed": false,
    "ExecuteTime": {
     "end_time": "2024-03-20T07:24:46.846726Z",
     "start_time": "2024-03-20T07:24:46.831437Z"
    }
   },
   "id": "472037a389fba8c2",
   "execution_count": 282
  },
  {
   "cell_type": "code",
   "outputs": [
    {
     "data": {
      "text/plain": "(40, (40,))"
     },
     "execution_count": 263,
     "metadata": {},
     "output_type": "execute_result"
    }
   ],
   "source": [
    "from sklearn.preprocessing import LabelEncoder\n",
    "\n",
    "labels = ['barrel_jellyfish', 'blue_jellyfish', 'compass_jellyfish', 'lions_mane_jellyfish', 'mauve_stinger_jellyfish', 'Moon_jellyfish']\n",
    "le = LabelEncoder()\n",
    "le.fit(labels)\n",
    "trlabel_transformed = le.transform(trlable)\n",
    "tstlabel_transformed = le.transform(tstlable)\n",
    "valabel_transformed = le.transform(vllable)\n",
    "    \n",
    "\n",
    "len(tstlabel_transformed), tstlable.shape"
   ],
   "metadata": {
    "collapsed": false,
    "ExecuteTime": {
     "end_time": "2024-03-20T05:32:18.730429Z",
     "start_time": "2024-03-20T05:32:18.717418Z"
    }
   },
   "id": "ceec392a70521b84",
   "execution_count": 263
  },
  {
   "cell_type": "code",
   "outputs": [],
   "source": [
    "# dataset class 만들기\n",
    "import numpy as np\n",
    "import pandas as pd\n",
    "import torch\n",
    "from torch.utils.data import Dataset\n",
    "\n",
    "class Jellyfish(Dataset):\n",
    "    \n",
    "    def __init__(self, images, label):\n",
    "        super(Jellyfish, self).__init__()\n",
    "        # Tensor로 변환\n",
    "        #images = np.array(images)\n",
    "        self.feature = torch.tensor(images, dtype=torch.float32)#.reshape(-1, 150*150)\n",
    "        # 라벨 생성\n",
    "        self.labels = torch.tensor(label, dtype=torch.long)\n",
    "        \n",
    "    def __len__(self):\n",
    "        return len(self.feature)\n",
    "    \n",
    "    def __getitem__(self, idx):\n",
    "        return self.feature[idx], self.labels[idx]"
   ],
   "metadata": {
    "collapsed": false,
    "ExecuteTime": {
     "end_time": "2024-03-20T05:32:18.822863Z",
     "start_time": "2024-03-20T05:32:18.807900Z"
    }
   },
   "id": "ec8360d12c655a89",
   "execution_count": 264
  },
  {
   "cell_type": "code",
   "outputs": [],
   "source": [],
   "metadata": {
    "collapsed": false,
    "ExecuteTime": {
     "end_time": "2024-03-20T05:32:18.963103Z",
     "start_time": "2024-03-20T05:32:18.958040Z"
    }
   },
   "id": "fc2053ca141e537e",
   "execution_count": 264
  },
  {
   "cell_type": "code",
   "outputs": [],
   "source": [
    "# 데이터셋 만들기\n",
    "\n",
    "\n",
    "train = Jellyfish(trainimage.reshape(-1,150*150), trlabel_transformed)\n",
    "test = Jellyfish(testimage.reshape(-1,150*150), tstlabel_transformed)\n",
    "valid = Jellyfish(validimage.reshape(-1,150*150), valabel_transformed)"
   ],
   "metadata": {
    "collapsed": false,
    "ExecuteTime": {
     "end_time": "2024-03-20T05:32:19.179882Z",
     "start_time": "2024-03-20T05:32:19.156960Z"
    }
   },
   "id": "68d97ec5ee8bd364",
   "execution_count": 265
  },
  {
   "cell_type": "markdown",
   "source": [],
   "metadata": {
    "collapsed": false
   },
   "id": "1d9565971e76cc2b"
  },
  {
   "cell_type": "code",
   "outputs": [
    {
     "data": {
      "text/plain": "(torch.Size([900, 22500]), torch.Size([900]))"
     },
     "execution_count": 266,
     "metadata": {},
     "output_type": "execute_result"
    }
   ],
   "source": [
    "train.feature.shape, train.labels.shape\n"
   ],
   "metadata": {
    "collapsed": false,
    "ExecuteTime": {
     "end_time": "2024-03-20T05:32:19.523509Z",
     "start_time": "2024-03-20T05:32:19.502850Z"
    }
   },
   "id": "78208b876714eff0",
   "execution_count": 266
  },
  {
   "cell_type": "code",
   "outputs": [],
   "source": [
    "batch_size = 20\n",
    "train_loader = torch.utils.data.DataLoader(train, batch_size=batch_size, shuffle=True)\n",
    "test_loader = torch.utils.data.DataLoader(test, batch_size=batch_size, shuffle=False)\n",
    "valid_loader = torch.utils.data.DataLoader(valid, batch_size=batch_size, shuffle=False)"
   ],
   "metadata": {
    "collapsed": false,
    "ExecuteTime": {
     "end_time": "2024-03-20T05:32:19.712693Z",
     "start_time": "2024-03-20T05:32:19.693058Z"
    }
   },
   "id": "8a558ef48d70b0c6",
   "execution_count": 267
  },
  {
   "cell_type": "code",
   "outputs": [
    {
     "name": "stdout",
     "output_type": "stream",
     "text": [
      "torch.Size([20, 22500]) torch.Size([20])\n",
      "torch.Size([20, 22500]) torch.Size([20])\n",
      "torch.Size([20, 22500]) torch.Size([20])\n",
      "torch.Size([20, 22500]) torch.Size([20])\n",
      "torch.Size([20, 22500]) torch.Size([20])\n",
      "torch.Size([20, 22500]) torch.Size([20])\n",
      "torch.Size([20, 22500]) torch.Size([20])\n",
      "torch.Size([20, 22500]) torch.Size([20])\n",
      "torch.Size([20, 22500]) torch.Size([20])\n",
      "torch.Size([20, 22500]) torch.Size([20])\n",
      "torch.Size([20, 22500]) torch.Size([20])\n",
      "torch.Size([20, 22500]) torch.Size([20])\n",
      "torch.Size([20, 22500]) torch.Size([20])\n",
      "torch.Size([20, 22500]) torch.Size([20])\n",
      "torch.Size([20, 22500]) torch.Size([20])\n",
      "torch.Size([20, 22500]) torch.Size([20])\n",
      "torch.Size([20, 22500]) torch.Size([20])\n",
      "torch.Size([20, 22500]) torch.Size([20])\n",
      "torch.Size([20, 22500]) torch.Size([20])\n",
      "torch.Size([20, 22500]) torch.Size([20])\n",
      "torch.Size([20, 22500]) torch.Size([20])\n",
      "torch.Size([20, 22500]) torch.Size([20])\n",
      "torch.Size([20, 22500]) torch.Size([20])\n",
      "torch.Size([20, 22500]) torch.Size([20])\n",
      "torch.Size([20, 22500]) torch.Size([20])\n",
      "torch.Size([20, 22500]) torch.Size([20])\n",
      "torch.Size([20, 22500]) torch.Size([20])\n",
      "torch.Size([20, 22500]) torch.Size([20])\n",
      "torch.Size([20, 22500]) torch.Size([20])\n",
      "torch.Size([20, 22500]) torch.Size([20])\n",
      "torch.Size([20, 22500]) torch.Size([20])\n",
      "torch.Size([20, 22500]) torch.Size([20])\n",
      "torch.Size([20, 22500]) torch.Size([20])\n",
      "torch.Size([20, 22500]) torch.Size([20])\n",
      "torch.Size([20, 22500]) torch.Size([20])\n",
      "torch.Size([20, 22500]) torch.Size([20])\n",
      "torch.Size([20, 22500]) torch.Size([20])\n",
      "torch.Size([20, 22500]) torch.Size([20])\n",
      "torch.Size([20, 22500]) torch.Size([20])\n",
      "torch.Size([20, 22500]) torch.Size([20])\n",
      "torch.Size([20, 22500]) torch.Size([20])\n",
      "torch.Size([20, 22500]) torch.Size([20])\n",
      "torch.Size([20, 22500]) torch.Size([20])\n",
      "torch.Size([20, 22500]) torch.Size([20])\n",
      "torch.Size([20, 22500]) torch.Size([20])\n"
     ]
    }
   ],
   "source": [
    "for f, l in train_loader:\n",
    "    print (f.shape, l.shape)"
   ],
   "metadata": {
    "collapsed": false,
    "ExecuteTime": {
     "end_time": "2024-03-20T05:32:19.899437Z",
     "start_time": "2024-03-20T05:32:19.873524Z"
    }
   },
   "id": "64fb43643a106d72",
   "execution_count": 268
  },
  {
   "cell_type": "code",
   "outputs": [],
   "source": [
    "import torch.nn as nn\n",
    "import torch.optim as optim\n",
    "import torchmetrics.functional as metrics\n",
    "from torch.utils.data import DataLoader\n",
    "\n",
    "## 다중분류모델\n",
    "## 입력층 피처 수\n",
    "## 출력층 피처 수: 6(0 ~ 5)\n",
    "\n",
    "class JellyFishModel(nn.Module):\n",
    "    \n",
    "    #모델 구성요소 초기화\n",
    "    def __init__(self, in_, out_):\n",
    "        super(JellyFishModel, self).__init__()\n",
    "        self.fc1 = nn.Linear(in_, 128)\n",
    "        self.fc2 = nn.Linear(128, 64)\n",
    "        self.fc3 = nn.Linear(64, out_)\n",
    "        self.relu = nn.ReLU()\n",
    "        self.dropout = nn.Dropout(0.2)\n",
    "        \n",
    "    def forward(self,x):\n",
    "        x = self.dropout(x)\n",
    "        x = self.fc1(x)\n",
    "        x = self.relu(x)\n",
    "        x = self.fc2(x)\n",
    "        x = self.relu(x)\n",
    "        x = self.fc3(x)\n",
    "        return x\n",
    "    "
   ],
   "metadata": {
    "collapsed": false,
    "ExecuteTime": {
     "end_time": "2024-03-20T06:36:18.150385Z",
     "start_time": "2024-03-20T06:36:18.133634Z"
    }
   },
   "id": "259dee2e63a0bb44",
   "execution_count": 277
  },
  {
   "cell_type": "code",
   "outputs": [],
   "source": [],
   "metadata": {
    "collapsed": false,
    "ExecuteTime": {
     "end_time": "2024-03-20T06:36:19.605633Z",
     "start_time": "2024-03-20T06:36:19.602908Z"
    }
   },
   "id": "ae69961b91b719fa",
   "execution_count": 277
  },
  {
   "cell_type": "code",
   "outputs": [],
   "source": [],
   "metadata": {
    "collapsed": false,
    "ExecuteTime": {
     "end_time": "2024-03-20T06:36:19.933411Z",
     "start_time": "2024-03-20T06:36:19.930910Z"
    }
   },
   "id": "4add3f148cc095e4",
   "execution_count": 277
  },
  {
   "cell_type": "code",
   "outputs": [],
   "source": [],
   "metadata": {
    "collapsed": false,
    "ExecuteTime": {
     "end_time": "2024-03-20T06:36:20.121977Z",
     "start_time": "2024-03-20T06:36:20.111390Z"
    }
   },
   "id": "3355fb0f7cff74c3",
   "execution_count": 277
  },
  {
   "cell_type": "code",
   "outputs": [
    {
     "name": "stdout",
     "output_type": "stream",
     "text": [
      "22500 6\n"
     ]
    }
   ],
   "source": [
    "#device\n",
    "DEVICE = 'cuda' if torch.cuda.is_available() else 'cpu'\n",
    "LOSS_FN = nn.CrossEntropyLoss()\n",
    "EPOCHS = 100\n",
    "LEARNING_RATE = 0.001\n",
    "\n",
    "#feature\n",
    "in_, out_ = 150*150, 6\n",
    "\n",
    "print(in_,out_)\n",
    "#instance\n",
    "model = JellyFishModel(in_, out_).to(DEVICE)\n",
    "l1_regularizer = nn.L1Loss()\n",
    "\n",
    "OPTIMIZER = optim.Adam(model.parameters(),lr=LEARNING_RATE)"
   ],
   "metadata": {
    "collapsed": false,
    "ExecuteTime": {
     "end_time": "2024-03-20T06:36:20.495588Z",
     "start_time": "2024-03-20T06:36:20.460458Z"
    }
   },
   "id": "706addc114a4f814",
   "execution_count": 278
  },
  {
   "cell_type": "code",
   "outputs": [],
   "source": [
    "# 학습진행함수\n",
    "\n",
    "def training(epoch,loader, kind='train'):\n",
    "    #학습(활성화)\n",
    "    model.train()\n",
    "    train_report = [[],[],[]]\n",
    "    losslist, acclist = [],[]\n",
    "    totalscores = [losslist, acclist]\n",
    "    score = 0\n",
    "    for index, (image, label) in enumerate(loader):\n",
    "        \n",
    "        image,label = image.to(DEVICE), label.to(DEVICE)\n",
    "        #print(image.shape,label.shape)\n",
    "        #학습\n",
    "        pre_label = model(image)\n",
    "        #print(pre_label.shape)\n",
    "        \n",
    "        loss = LOSS_FN(pre_label,label)\n",
    "        losslist.append(loss)\n",
    "        #최적화\n",
    "        \n",
    "        if kind=='train':\n",
    "            #최적화\n",
    "            OPTIMIZER.zero_grad()\n",
    "            loss.backward()\n",
    "            OPTIMIZER.step()\n",
    "        \n",
    "        acc = accuracy_score(pre_label.argmax(dim = 1),label.detach().numpy())\n",
    "        f1 = f1_score(pre_label.argmax(dim = 1),label.detach().numpy(),average='macro')\n",
    "        acclist.append(f1)\n",
    "        \n",
    "        if score<f1:\n",
    "            score = f1\n",
    "            torch.save(model,'Jellyfish.pth')\n",
    "            \n",
    "        \n",
    "        # 학습 진행 상태 출력\n",
    "        \n",
    "        #print(f' [LOSS] {loss},[ACC] {acc}')\n",
    "        \n",
    "    print(f'========{kind}======== {ep}/{EPOCHS} [LOSS] {sum(losslist)/len(train_loader):.3f},[F1] {sum(acclist)/len(train_loader):.3f}')\n",
    "        "
   ],
   "metadata": {
    "collapsed": false,
    "ExecuteTime": {
     "end_time": "2024-03-20T06:36:21.050166Z",
     "start_time": "2024-03-20T06:36:21.032190Z"
    }
   },
   "id": "32b036ac5ceab414",
   "execution_count": 279
  },
  {
   "cell_type": "code",
   "outputs": [
    {
     "name": "stdout",
     "output_type": "stream",
     "text": [
      "========train======== 0/100 [LOSS] 1.908,[F1] 0.137\n",
      "========valid======== 0/100 [LOSS] 0.088,[F1] 0.004\n",
      "========train======== 1/100 [LOSS] 1.639,[F1] 0.229\n",
      "========valid======== 1/100 [LOSS] 0.083,[F1] 0.005\n",
      "========train======== 2/100 [LOSS] 1.604,[F1] 0.288\n",
      "========valid======== 2/100 [LOSS] 0.089,[F1] 0.005\n",
      "========train======== 3/100 [LOSS] 1.590,[F1] 0.285\n",
      "========valid======== 3/100 [LOSS] 0.092,[F1] 0.006\n",
      "========train======== 4/100 [LOSS] 1.530,[F1] 0.322\n",
      "========valid======== 4/100 [LOSS] 0.088,[F1] 0.006\n",
      "========train======== 5/100 [LOSS] 1.439,[F1] 0.345\n",
      "========valid======== 5/100 [LOSS] 0.096,[F1] 0.003\n",
      "========train======== 6/100 [LOSS] 1.424,[F1] 0.368\n",
      "========valid======== 6/100 [LOSS] 0.091,[F1] 0.006\n",
      "========train======== 7/100 [LOSS] 1.350,[F1] 0.400\n",
      "========valid======== 7/100 [LOSS] 0.096,[F1] 0.005\n",
      "========train======== 8/100 [LOSS] 1.324,[F1] 0.421\n",
      "========valid======== 8/100 [LOSS] 0.097,[F1] 0.004\n",
      "========train======== 9/100 [LOSS] 1.312,[F1] 0.434\n",
      "========valid======== 9/100 [LOSS] 0.109,[F1] 0.003\n",
      "========train======== 10/100 [LOSS] 1.280,[F1] 0.461\n",
      "========valid======== 10/100 [LOSS] 0.096,[F1] 0.007\n",
      "========train======== 11/100 [LOSS] 1.226,[F1] 0.492\n",
      "========valid======== 11/100 [LOSS] 0.103,[F1] 0.008\n",
      "========train======== 12/100 [LOSS] 1.167,[F1] 0.499\n",
      "========valid======== 12/100 [LOSS] 0.112,[F1] 0.008\n",
      "========train======== 13/100 [LOSS] 1.188,[F1] 0.471\n",
      "========valid======== 13/100 [LOSS] 0.115,[F1] 0.007\n",
      "========train======== 14/100 [LOSS] 1.081,[F1] 0.569\n",
      "========valid======== 14/100 [LOSS] 0.120,[F1] 0.008\n",
      "========train======== 15/100 [LOSS] 1.086,[F1] 0.546\n",
      "========valid======== 15/100 [LOSS] 0.105,[F1] 0.007\n",
      "========train======== 16/100 [LOSS] 1.055,[F1] 0.567\n",
      "========valid======== 16/100 [LOSS] 0.121,[F1] 0.009\n",
      "========train======== 17/100 [LOSS] 0.975,[F1] 0.611\n",
      "========valid======== 17/100 [LOSS] 0.122,[F1] 0.008\n",
      "========train======== 18/100 [LOSS] 0.962,[F1] 0.593\n",
      "========valid======== 18/100 [LOSS] 0.111,[F1] 0.008\n",
      "========train======== 19/100 [LOSS] 0.948,[F1] 0.582\n",
      "========valid======== 19/100 [LOSS] 0.135,[F1] 0.007\n",
      "========train======== 20/100 [LOSS] 0.888,[F1] 0.641\n",
      "========valid======== 20/100 [LOSS] 0.153,[F1] 0.008\n",
      "========train======== 21/100 [LOSS] 0.852,[F1] 0.663\n",
      "========valid======== 21/100 [LOSS] 0.142,[F1] 0.006\n",
      "========train======== 22/100 [LOSS] 0.864,[F1] 0.645\n",
      "========valid======== 22/100 [LOSS] 0.139,[F1] 0.008\n",
      "========train======== 23/100 [LOSS] 0.794,[F1] 0.673\n",
      "========valid======== 23/100 [LOSS] 0.138,[F1] 0.008\n",
      "========train======== 24/100 [LOSS] 0.740,[F1] 0.707\n",
      "========valid======== 24/100 [LOSS] 0.154,[F1] 0.008\n",
      "========train======== 25/100 [LOSS] 0.791,[F1] 0.693\n",
      "========valid======== 25/100 [LOSS] 0.147,[F1] 0.006\n",
      "========train======== 26/100 [LOSS] 0.705,[F1] 0.696\n",
      "========valid======== 26/100 [LOSS] 0.151,[F1] 0.007\n",
      "========train======== 27/100 [LOSS] 0.724,[F1] 0.722\n",
      "========valid======== 27/100 [LOSS] 0.161,[F1] 0.009\n",
      "========train======== 28/100 [LOSS] 0.722,[F1] 0.694\n",
      "========valid======== 28/100 [LOSS] 0.156,[F1] 0.008\n",
      "========train======== 29/100 [LOSS] 0.698,[F1] 0.704\n",
      "========valid======== 29/100 [LOSS] 0.160,[F1] 0.007\n",
      "========train======== 30/100 [LOSS] 0.748,[F1] 0.693\n",
      "========valid======== 30/100 [LOSS] 0.180,[F1] 0.006\n",
      "========train======== 31/100 [LOSS] 0.677,[F1] 0.707\n",
      "========valid======== 31/100 [LOSS] 0.167,[F1] 0.008\n",
      "========train======== 32/100 [LOSS] 0.587,[F1] 0.742\n",
      "========valid======== 32/100 [LOSS] 0.157,[F1] 0.007\n",
      "========train======== 33/100 [LOSS] 0.571,[F1] 0.739\n",
      "========valid======== 33/100 [LOSS] 0.162,[F1] 0.007\n",
      "========train======== 34/100 [LOSS] 0.517,[F1] 0.801\n",
      "========valid======== 34/100 [LOSS] 0.156,[F1] 0.004\n",
      "========train======== 35/100 [LOSS] 0.579,[F1] 0.754\n",
      "========valid======== 35/100 [LOSS] 0.212,[F1] 0.004\n",
      "========train======== 36/100 [LOSS] 0.538,[F1] 0.788\n",
      "========valid======== 36/100 [LOSS] 0.169,[F1] 0.009\n",
      "========train======== 37/100 [LOSS] 0.581,[F1] 0.768\n",
      "========valid======== 37/100 [LOSS] 0.178,[F1] 0.011\n",
      "========train======== 38/100 [LOSS] 0.655,[F1] 0.733\n",
      "========valid======== 38/100 [LOSS] 0.161,[F1] 0.008\n",
      "========train======== 39/100 [LOSS] 0.552,[F1] 0.769\n",
      "========valid======== 39/100 [LOSS] 0.173,[F1] 0.008\n",
      "========train======== 40/100 [LOSS] 0.498,[F1] 0.782\n",
      "========valid======== 40/100 [LOSS] 0.171,[F1] 0.007\n",
      "========train======== 41/100 [LOSS] 0.513,[F1] 0.770\n",
      "========valid======== 41/100 [LOSS] 0.175,[F1] 0.006\n",
      "========train======== 42/100 [LOSS] 0.513,[F1] 0.787\n",
      "========valid======== 42/100 [LOSS] 0.167,[F1] 0.009\n",
      "========train======== 43/100 [LOSS] 0.516,[F1] 0.808\n",
      "========valid======== 43/100 [LOSS] 0.199,[F1] 0.006\n",
      "========train======== 44/100 [LOSS] 0.406,[F1] 0.833\n",
      "========valid======== 44/100 [LOSS] 0.200,[F1] 0.006\n",
      "========train======== 45/100 [LOSS] 0.419,[F1] 0.829\n",
      "========valid======== 45/100 [LOSS] 0.200,[F1] 0.007\n",
      "========train======== 46/100 [LOSS] 0.438,[F1] 0.834\n",
      "========valid======== 46/100 [LOSS] 0.220,[F1] 0.007\n",
      "========train======== 47/100 [LOSS] 0.379,[F1] 0.850\n",
      "========valid======== 47/100 [LOSS] 0.204,[F1] 0.006\n",
      "========train======== 48/100 [LOSS] 0.418,[F1] 0.829\n",
      "========valid======== 48/100 [LOSS] 0.198,[F1] 0.004\n",
      "========train======== 49/100 [LOSS] 0.514,[F1] 0.786\n",
      "========valid======== 49/100 [LOSS] 0.201,[F1] 0.007\n",
      "========train======== 50/100 [LOSS] 0.371,[F1] 0.847\n",
      "========valid======== 50/100 [LOSS] 0.174,[F1] 0.008\n",
      "========train======== 51/100 [LOSS] 0.354,[F1] 0.848\n",
      "========valid======== 51/100 [LOSS] 0.192,[F1] 0.007\n",
      "========train======== 52/100 [LOSS] 0.392,[F1] 0.832\n",
      "========valid======== 52/100 [LOSS] 0.201,[F1] 0.007\n",
      "========train======== 53/100 [LOSS] 0.363,[F1] 0.865\n",
      "========valid======== 53/100 [LOSS] 0.216,[F1] 0.009\n",
      "========train======== 54/100 [LOSS] 0.359,[F1] 0.823\n",
      "========valid======== 54/100 [LOSS] 0.225,[F1] 0.006\n",
      "========train======== 55/100 [LOSS] 0.386,[F1] 0.839\n",
      "========valid======== 55/100 [LOSS] 0.196,[F1] 0.007\n",
      "========train======== 56/100 [LOSS] 0.567,[F1] 0.758\n",
      "========valid======== 56/100 [LOSS] 0.184,[F1] 0.010\n",
      "========train======== 57/100 [LOSS] 0.344,[F1] 0.877\n",
      "========valid======== 57/100 [LOSS] 0.201,[F1] 0.007\n",
      "========train======== 58/100 [LOSS] 0.298,[F1] 0.873\n",
      "========valid======== 58/100 [LOSS] 0.209,[F1] 0.006\n",
      "========train======== 59/100 [LOSS] 0.287,[F1] 0.887\n",
      "========valid======== 59/100 [LOSS] 0.233,[F1] 0.006\n",
      "========train======== 60/100 [LOSS] 0.269,[F1] 0.897\n",
      "========valid======== 60/100 [LOSS] 0.213,[F1] 0.009\n",
      "========train======== 61/100 [LOSS] 0.229,[F1] 0.913\n",
      "========valid======== 61/100 [LOSS] 0.219,[F1] 0.009\n",
      "========train======== 62/100 [LOSS] 0.270,[F1] 0.902\n",
      "========valid======== 62/100 [LOSS] 0.231,[F1] 0.006\n",
      "========train======== 63/100 [LOSS] 0.306,[F1] 0.875\n",
      "========valid======== 63/100 [LOSS] 0.224,[F1] 0.005\n",
      "========train======== 64/100 [LOSS] 0.303,[F1] 0.873\n",
      "========valid======== 64/100 [LOSS] 0.214,[F1] 0.005\n",
      "========train======== 65/100 [LOSS] 0.222,[F1] 0.910\n",
      "========valid======== 65/100 [LOSS] 0.252,[F1] 0.006\n",
      "========train======== 66/100 [LOSS] 0.283,[F1] 0.890\n",
      "========valid======== 66/100 [LOSS] 0.240,[F1] 0.006\n",
      "========train======== 67/100 [LOSS] 0.409,[F1] 0.832\n",
      "========valid======== 67/100 [LOSS] 0.207,[F1] 0.007\n",
      "========train======== 68/100 [LOSS] 0.262,[F1] 0.886\n",
      "========valid======== 68/100 [LOSS] 0.210,[F1] 0.007\n",
      "========train======== 69/100 [LOSS] 0.276,[F1] 0.874\n",
      "========valid======== 69/100 [LOSS] 0.238,[F1] 0.008\n",
      "========train======== 70/100 [LOSS] 0.350,[F1] 0.850\n",
      "========valid======== 70/100 [LOSS] 0.234,[F1] 0.007\n",
      "========train======== 71/100 [LOSS] 0.271,[F1] 0.888\n",
      "========valid======== 71/100 [LOSS] 0.238,[F1] 0.008\n",
      "========train======== 72/100 [LOSS] 0.219,[F1] 0.910\n",
      "========valid======== 72/100 [LOSS] 0.252,[F1] 0.008\n",
      "========train======== 73/100 [LOSS] 0.281,[F1] 0.881\n",
      "========valid======== 73/100 [LOSS] 0.244,[F1] 0.009\n",
      "========train======== 74/100 [LOSS] 0.212,[F1] 0.923\n",
      "========valid======== 74/100 [LOSS] 0.231,[F1] 0.010\n",
      "========train======== 75/100 [LOSS] 0.220,[F1] 0.889\n",
      "========valid======== 75/100 [LOSS] 0.244,[F1] 0.009\n",
      "========train======== 76/100 [LOSS] 0.288,[F1] 0.884\n",
      "========valid======== 76/100 [LOSS] 0.234,[F1] 0.006\n",
      "========train======== 77/100 [LOSS] 0.208,[F1] 0.916\n",
      "========valid======== 77/100 [LOSS] 0.306,[F1] 0.007\n",
      "========train======== 78/100 [LOSS] 0.185,[F1] 0.926\n",
      "========valid======== 78/100 [LOSS] 0.302,[F1] 0.005\n",
      "========train======== 79/100 [LOSS] 0.171,[F1] 0.934\n",
      "========valid======== 79/100 [LOSS] 0.277,[F1] 0.006\n",
      "========train======== 80/100 [LOSS] 0.337,[F1] 0.862\n",
      "========valid======== 80/100 [LOSS] 0.242,[F1] 0.004\n",
      "========train======== 81/100 [LOSS] 0.373,[F1] 0.856\n",
      "========valid======== 81/100 [LOSS] 0.241,[F1] 0.005\n",
      "========train======== 82/100 [LOSS] 0.301,[F1] 0.893\n",
      "========valid======== 82/100 [LOSS] 0.272,[F1] 0.005\n",
      "========train======== 83/100 [LOSS] 0.175,[F1] 0.920\n",
      "========valid======== 83/100 [LOSS] 0.258,[F1] 0.008\n",
      "========train======== 84/100 [LOSS] 0.277,[F1] 0.876\n",
      "========valid======== 84/100 [LOSS] 0.235,[F1] 0.005\n",
      "========train======== 85/100 [LOSS] 0.169,[F1] 0.928\n",
      "========valid======== 85/100 [LOSS] 0.301,[F1] 0.006\n",
      "========train======== 86/100 [LOSS] 0.193,[F1] 0.923\n",
      "========valid======== 86/100 [LOSS] 0.287,[F1] 0.008\n",
      "========train======== 87/100 [LOSS] 0.160,[F1] 0.937\n",
      "========valid======== 87/100 [LOSS] 0.291,[F1] 0.006\n",
      "========train======== 88/100 [LOSS] 0.203,[F1] 0.919\n",
      "========valid======== 88/100 [LOSS] 0.293,[F1] 0.008\n",
      "========train======== 89/100 [LOSS] 0.152,[F1] 0.941\n",
      "========valid======== 89/100 [LOSS] 0.278,[F1] 0.007\n",
      "========train======== 90/100 [LOSS] 0.119,[F1] 0.950\n",
      "========valid======== 90/100 [LOSS] 0.298,[F1] 0.008\n",
      "========train======== 91/100 [LOSS] 0.196,[F1] 0.916\n",
      "========valid======== 91/100 [LOSS] 0.275,[F1] 0.008\n",
      "========train======== 92/100 [LOSS] 0.124,[F1] 0.957\n",
      "========valid======== 92/100 [LOSS] 0.307,[F1] 0.008\n",
      "========train======== 93/100 [LOSS] 0.091,[F1] 0.970\n",
      "========valid======== 93/100 [LOSS] 0.297,[F1] 0.007\n",
      "========train======== 94/100 [LOSS] 0.232,[F1] 0.887\n",
      "========valid======== 94/100 [LOSS] 0.252,[F1] 0.007\n",
      "========train======== 95/100 [LOSS] 0.212,[F1] 0.905\n",
      "========valid======== 95/100 [LOSS] 0.290,[F1] 0.008\n",
      "========train======== 96/100 [LOSS] 0.203,[F1] 0.897\n",
      "========valid======== 96/100 [LOSS] 0.267,[F1] 0.005\n",
      "========train======== 97/100 [LOSS] 0.158,[F1] 0.927\n",
      "========valid======== 97/100 [LOSS] 0.257,[F1] 0.008\n",
      "========train======== 98/100 [LOSS] 0.160,[F1] 0.943\n",
      "========valid======== 98/100 [LOSS] 0.301,[F1] 0.007\n",
      "========train======== 99/100 [LOSS] 0.231,[F1] 0.904\n",
      "========valid======== 99/100 [LOSS] 0.274,[F1] 0.006\n"
     ]
    }
   ],
   "source": [
    "for ep in range(EPOCHS):\n",
    "    training(ep,train_loader,'train')\n",
    "    training(ep,valid_loader,'valid')\n",
    "    print()"
   ],
   "metadata": {
    "collapsed": false,
    "ExecuteTime": {
     "end_time": "2024-03-20T06:40:34.290775Z",
     "start_time": "2024-03-20T06:36:21.884355Z"
    }
   },
   "id": "4d56710c766dc549",
   "execution_count": 280
  },
  {
   "cell_type": "code",
   "outputs": [],
   "source": [],
   "metadata": {
    "collapsed": false,
    "ExecuteTime": {
     "end_time": "2024-03-20T05:36:13.157010Z",
     "start_time": "2024-03-20T05:36:13.144056Z"
    }
   },
   "id": "3e9f38a06bb6f77",
   "execution_count": 272
  },
  {
   "cell_type": "code",
   "outputs": [],
   "source": [],
   "metadata": {
    "collapsed": false,
    "ExecuteTime": {
     "end_time": "2024-03-20T05:36:13.172957Z",
     "start_time": "2024-03-20T05:36:13.158007Z"
    }
   },
   "id": "582208fac1a32e0f",
   "execution_count": 272
  },
  {
   "cell_type": "code",
   "outputs": [],
   "source": [],
   "metadata": {
    "collapsed": false,
    "ExecuteTime": {
     "start_time": "2024-03-20T05:32:09.391133Z"
    }
   },
   "id": "cacd9b92f820d2c2",
   "execution_count": null
  },
  {
   "cell_type": "code",
   "outputs": [],
   "source": [],
   "metadata": {
    "collapsed": false,
    "ExecuteTime": {
     "start_time": "2024-03-20T05:32:09.393127Z"
    }
   },
   "id": "7046057628665759",
   "execution_count": null
  },
  {
   "cell_type": "code",
   "outputs": [],
   "source": [],
   "metadata": {
    "collapsed": false,
    "ExecuteTime": {
     "start_time": "2024-03-20T05:32:09.395120Z"
    }
   },
   "id": "aa67d7fc0c0aad82",
   "execution_count": null
  },
  {
   "cell_type": "code",
   "outputs": [],
   "source": [],
   "metadata": {
    "collapsed": false,
    "ExecuteTime": {
     "start_time": "2024-03-20T05:32:09.504464Z"
    }
   },
   "id": "b56bb963a554973c",
   "execution_count": null
  }
 ],
 "metadata": {
  "kernelspec": {
   "display_name": "Python 3",
   "language": "python",
   "name": "python3"
  },
  "language_info": {
   "codemirror_mode": {
    "name": "ipython",
    "version": 2
   },
   "file_extension": ".py",
   "mimetype": "text/x-python",
   "name": "python",
   "nbconvert_exporter": "python",
   "pygments_lexer": "ipython2",
   "version": "2.7.6"
  }
 },
 "nbformat": 4,
 "nbformat_minor": 5
}
