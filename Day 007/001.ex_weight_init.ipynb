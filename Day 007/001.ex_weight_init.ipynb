{
 "cells": [
  {
   "cell_type": "markdown",
   "source": [
    "## "
   ],
   "metadata": {
    "collapsed": false
   },
   "id": "b4345e1441492cc3"
  },
  {
   "cell_type": "code",
   "outputs": [],
   "source": [
    "import torch\n",
    "import torch.nn as nn\n",
    "from torchinfo import summary\n",
    "\n",
    "class Net(nn.Module):\n",
    "    def __init__(self):  #모델 구성 요소 생성 & 구조 설정\n",
    "        super(Net, self).__init__()\n",
    "        \n",
    "        self.fc1 = nn.Linear(8,4)\n",
    "        self.fc2 = nn.Linear(4,2)\n",
    "        self.fc3 = nn.Linear(2,1)\n",
    "        \n",
    "    def forward(self,x):  #순방향 학습 진행 함수\n",
    "        return self.fc3(self.fc2(self.fc1(x)))"
   ],
   "metadata": {
    "collapsed": false,
    "ExecuteTime": {
     "end_time": "2024-03-19T02:30:26.869644Z",
     "start_time": "2024-03-19T02:30:26.848539Z"
    }
   },
   "id": "4a999d3580874857",
   "execution_count": 31
  },
  {
   "cell_type": "code",
   "outputs": [
    {
     "data": {
      "text/plain": "=================================================================\nLayer (type:depth-idx)                   Param #\n=================================================================\nNet                                      --\n├─Linear: 1-1                            36\n├─Linear: 1-2                            10\n├─Linear: 1-3                            3\n=================================================================\nTotal params: 49\nTrainable params: 49\nNon-trainable params: 0\n================================================================="
     },
     "execution_count": 32,
     "metadata": {},
     "output_type": "execute_result"
    }
   ],
   "source": [
    "#모델 인스턴스 생성\n",
    "\n",
    "model = Net()\n",
    "\n",
    "model  # 구조 확인\n",
    "\n",
    "summary(model) #모델 구조를 깔쌈하게 정리해서 보여준다! dropout 연산 안 함. ->파라미터 없음.\n",
    "'''\n",
    "w + b\n",
    "8 + 1\n",
    "8 + 1\n",
    "8 + 1\n",
    "8 + 1\n",
    "===> total 36\n",
    "\n",
    "4 + 1\n",
    "4 + 1\n",
    "===> total 10\n",
    "\n",
    "2 + 1\n",
    "===> total 3\n",
    "'''"
   ],
   "metadata": {
    "collapsed": false,
    "ExecuteTime": {
     "end_time": "2024-03-19T02:30:55.729960Z",
     "start_time": "2024-03-19T02:30:55.716993Z"
    }
   },
   "id": "f74fd54f20356429",
   "execution_count": 32
  },
  {
   "cell_type": "code",
   "outputs": [
    {
     "data": {
      "text/plain": "(Parameter containing:\n tensor([[ 0.5148,  0.5801, -0.4365,  0.3305,  0.2385, -0.5381, -0.3244, -0.0313],\n         [-0.4270, -0.0837, -0.1724,  0.0401, -0.5460, -0.4777, -0.6960,  0.1932],\n         [-0.3869,  0.0344, -0.4710, -0.4765,  0.4335, -0.4611, -0.2751,  0.1702],\n         [-0.4462,  0.5620, -0.4057, -0.3965,  0.2878, -0.1948,  0.2762, -0.1972]],\n        requires_grad=True),\n Parameter containing:\n tensor([0.1533, 0.0528, 0.2027, 0.2806], requires_grad=True))"
     },
     "execution_count": 19,
     "metadata": {},
     "output_type": "execute_result"
    }
   ],
   "source": [
    "#모델 인스턴스의 속성 확인\n",
    "#모델의 특정 층 추출\n",
    "model.fc1\n",
    "\n",
    "model.fc1.weight, model.fc1.bias"
   ],
   "metadata": {
    "collapsed": false,
    "ExecuteTime": {
     "end_time": "2024-03-19T01:58:51.020274Z",
     "start_time": "2024-03-19T01:58:51.007317Z"
    }
   },
   "id": "680e4b0da1159146",
   "execution_count": 19
  },
  {
   "cell_type": "code",
   "outputs": [
    {
     "data": {
      "text/plain": "<generator object Module.parameters at 0x0000026E7DF46900>"
     },
     "execution_count": 20,
     "metadata": {},
     "output_type": "execute_result"
    }
   ],
   "source": [
    "model.parameters()  #iterater = 반복 객체 => 반복문"
   ],
   "metadata": {
    "collapsed": false,
    "ExecuteTime": {
     "end_time": "2024-03-19T01:58:51.550246Z",
     "start_time": "2024-03-19T01:58:51.530208Z"
    }
   },
   "id": "9c8fd98b9933c08b",
   "execution_count": 20
  },
  {
   "cell_type": "code",
   "outputs": [
    {
     "name": "stdout",
     "output_type": "stream",
     "text": [
      "Parameter containing:\n",
      "tensor([[ 0.5148,  0.5801, -0.4365,  0.3305,  0.2385, -0.5381, -0.3244, -0.0313],\n",
      "        [-0.4270, -0.0837, -0.1724,  0.0401, -0.5460, -0.4777, -0.6960,  0.1932],\n",
      "        [-0.3869,  0.0344, -0.4710, -0.4765,  0.4335, -0.4611, -0.2751,  0.1702],\n",
      "        [-0.4462,  0.5620, -0.4057, -0.3965,  0.2878, -0.1948,  0.2762, -0.1972]],\n",
      "       requires_grad=True)\n",
      "\n",
      "Parameter containing:\n",
      "tensor([0.1533, 0.0528, 0.2027, 0.2806], requires_grad=True)\n",
      "\n",
      "Parameter containing:\n",
      "tensor([[ 0.3289,  0.2279,  0.3618, -0.4762],\n",
      "        [ 0.4467, -0.2533, -0.2975, -0.2321]], requires_grad=True)\n",
      "\n",
      "Parameter containing:\n",
      "tensor([0.0329, 0.1276], requires_grad=True)\n",
      "\n",
      "Parameter containing:\n",
      "tensor([[-0.4725,  0.0181]], requires_grad=True)\n",
      "\n",
      "Parameter containing:\n",
      "tensor([0.0014], requires_grad=True)\n"
     ]
    }
   ],
   "source": [
    "for param in model.parameters(): # 파라미터 값\n",
    "    print(param, end='\\n\\n')"
   ],
   "metadata": {
    "collapsed": false,
    "ExecuteTime": {
     "end_time": "2024-03-19T01:58:51.923240Z",
     "start_time": "2024-03-19T01:58:51.899724Z"
    }
   },
   "id": "6e0de2db1e438aa",
   "execution_count": 21
  },
  {
   "cell_type": "code",
   "outputs": [
    {
     "name": "stdout",
     "output_type": "stream",
     "text": [
      "('fc1.weight', Parameter containing:\n",
      "tensor([[ 0.5148,  0.5801, -0.4365,  0.3305,  0.2385, -0.5381, -0.3244, -0.0313],\n",
      "        [-0.4270, -0.0837, -0.1724,  0.0401, -0.5460, -0.4777, -0.6960,  0.1932],\n",
      "        [-0.3869,  0.0344, -0.4710, -0.4765,  0.4335, -0.4611, -0.2751,  0.1702],\n",
      "        [-0.4462,  0.5620, -0.4057, -0.3965,  0.2878, -0.1948,  0.2762, -0.1972]],\n",
      "       requires_grad=True))\n",
      "\n",
      "('fc1.bias', Parameter containing:\n",
      "tensor([0.1533, 0.0528, 0.2027, 0.2806], requires_grad=True))\n",
      "\n",
      "('fc2.weight', Parameter containing:\n",
      "tensor([[ 0.3289,  0.2279,  0.3618, -0.4762],\n",
      "        [ 0.4467, -0.2533, -0.2975, -0.2321]], requires_grad=True))\n",
      "\n",
      "('fc2.bias', Parameter containing:\n",
      "tensor([0.0329, 0.1276], requires_grad=True))\n",
      "\n",
      "('fc3.weight', Parameter containing:\n",
      "tensor([[-0.4725,  0.0181]], requires_grad=True))\n",
      "\n",
      "('fc3.bias', Parameter containing:\n",
      "tensor([0.0014], requires_grad=True))\n"
     ]
    }
   ],
   "source": [
    "#모델의 각 층별 W, b 텐서 정보 확인\n",
    "\n",
    "for param in model.named_parameters():  #이름 + 파라미터 값\n",
    "    print(param, end='\\n\\n')"
   ],
   "metadata": {
    "collapsed": false,
    "ExecuteTime": {
     "end_time": "2024-03-19T01:58:52.109795Z",
     "start_time": "2024-03-19T01:58:52.094425Z"
    }
   },
   "id": "9accf336d2ae0751",
   "execution_count": 22
  },
  {
   "cell_type": "markdown",
   "source": [
    "# Layer의 가중치 설정하기"
   ],
   "metadata": {
    "collapsed": false
   },
   "id": "f06f670393168d5"
  },
  {
   "cell_type": "code",
   "outputs": [
    {
     "name": "stdout",
     "output_type": "stream",
     "text": [
      "Linear(in_features=8, out_features=4, bias=True)\n",
      "\n",
      "Linear(in_features=4, out_features=2, bias=True)\n",
      "\n",
      "Linear(in_features=2, out_features=1, bias=True)\n",
      "\n",
      "('fc1', Linear(in_features=8, out_features=4, bias=True))\n",
      "\n",
      "('fc2', Linear(in_features=4, out_features=2, bias=True))\n",
      "\n",
      "('fc3', Linear(in_features=2, out_features=1, bias=True))\n"
     ]
    }
   ],
   "source": [
    "#모델 구성의 모든 Layer 가져오기\"\n",
    "\n",
    "for child in model.children():\n",
    "    print(child, end='\\n\\n')\n",
    "    \n",
    "for child in model.named_children():\n",
    "    print(child, end='\\n\\n')"
   ],
   "metadata": {
    "collapsed": false,
    "ExecuteTime": {
     "end_time": "2024-03-19T02:08:06.676761Z",
     "start_time": "2024-03-19T02:08:06.656843Z"
    }
   },
   "id": "b6b8b546b3c3b150",
   "execution_count": 28
  },
  {
   "cell_type": "code",
   "outputs": [
    {
     "data": {
      "text/plain": "Parameter containing:\ntensor([[-0.3755,  0.2058,  0.2879,  0.5911,  0.2068,  0.2280,  0.6007, -0.4375],\n        [-0.2706, -0.2101,  0.2220,  0.1961, -0.4297,  0.4360,  0.0599, -0.5759],\n        [-0.3695,  0.2915, -0.6399,  0.7000,  0.0171, -0.2625, -0.4036,  0.1172],\n        [ 0.0791, -0.1382,  0.5802, -0.6101,  0.7069, -0.5976,  0.5523, -0.3192]],\n       requires_grad=True)"
     },
     "execution_count": 24,
     "metadata": {},
     "output_type": "execute_result"
    }
   ],
   "source": [
    "#xavier 알고리즘 가중치 초기화\n",
    "\n",
    "nn.init.xavier_uniform_(model.fc1.weight)"
   ],
   "metadata": {
    "collapsed": false,
    "ExecuteTime": {
     "end_time": "2024-03-19T01:59:32.378663Z",
     "start_time": "2024-03-19T01:59:32.357732Z"
    }
   },
   "id": "d67612366414a307",
   "execution_count": 24
  },
  {
   "cell_type": "code",
   "outputs": [
    {
     "data": {
      "text/plain": "Parameter containing:\ntensor([[ 0.3215, -0.5955, -0.1809,  0.6513,  0.7802, -0.1798,  0.7231, -0.4332],\n        [ 0.5107,  0.1271,  0.5626, -0.3812, -0.2380, -0.1535, -0.0785, -0.3702],\n        [ 0.1901,  0.6924, -0.6653, -0.6781,  0.4008, -0.5854, -0.5889, -0.6057],\n        [-0.6023, -0.2513, -0.1052,  0.5360, -0.1561,  0.3036,  0.1397,  0.1600]],\n       requires_grad=True)"
     },
     "execution_count": 26,
     "metadata": {},
     "output_type": "execute_result"
    }
   ],
   "source": [
    "#he(=kaiming) 알고리즘 가중치 초기화\n",
    "\n",
    "nn.init.kaiming_uniform_(model.fc1.weight)"
   ],
   "metadata": {
    "collapsed": false,
    "ExecuteTime": {
     "end_time": "2024-03-19T02:04:00.384754Z",
     "start_time": "2024-03-19T02:04:00.364703Z"
    }
   },
   "id": "5b188874f45667f5",
   "execution_count": 26
  },
  {
   "cell_type": "code",
   "outputs": [],
   "source": [
    "import torchviz\n",
    "import torchinfo"
   ],
   "metadata": {
    "collapsed": false,
    "ExecuteTime": {
     "end_time": "2024-03-19T02:28:00.962249Z",
     "start_time": "2024-03-19T02:28:00.950109Z"
    }
   },
   "id": "9f2894787b511d45",
   "execution_count": 30
  },
  {
   "cell_type": "code",
   "outputs": [],
   "source": [
    "torch.save(model,'../datas/model/mymd.pt')\n"
   ],
   "metadata": {
    "collapsed": false,
    "ExecuteTime": {
     "end_time": "2024-03-19T04:08:26.370435Z",
     "start_time": "2024-03-19T04:08:26.357900Z"
    }
   },
   "id": "83fb75de2f7b9a7e",
   "execution_count": 33
  },
  {
   "cell_type": "code",
   "outputs": [],
   "source": [],
   "metadata": {
    "collapsed": false
   },
   "id": "5b5ca60b0757e5e6"
  }
 ],
 "metadata": {
  "kernelspec": {
   "display_name": "Python 3",
   "language": "python",
   "name": "python3"
  },
  "language_info": {
   "codemirror_mode": {
    "name": "ipython",
    "version": 2
   },
   "file_extension": ".py",
   "mimetype": "text/x-python",
   "name": "python",
   "nbconvert_exporter": "python",
   "pygments_lexer": "ipython2",
   "version": "2.7.6"
  }
 },
 "nbformat": 4,
 "nbformat_minor": 5
}
