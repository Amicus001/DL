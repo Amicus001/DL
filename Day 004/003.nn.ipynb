{
 "cells": [
  {
   "cell_type": "markdown",
   "source": [
    "## 인공신경망 모델 클래스 만들기 <hr>\n",
    "- 부모 클래스 : nn.Module 상속받음\n",
    "- 필수 오버라이딩 메서드 : _ _ init_ _(), forward()"
   ],
   "metadata": {
    "collapsed": false
   },
   "id": "7a852500eedabca7"
  },
  {
   "cell_type": "markdown",
   "source": [
    "1. 모듈 로딩"
   ],
   "metadata": {
    "collapsed": false
   },
   "id": "30963b864671442a"
  },
  {
   "cell_type": "code",
   "outputs": [],
   "source": [
    "import torch\n",
    "import torch.nn as nn\n"
   ],
   "metadata": {
    "collapsed": false,
    "ExecuteTime": {
     "end_time": "2024-03-14T08:25:01.051122Z",
     "start_time": "2024-03-14T08:24:59.807038Z"
    }
   },
   "id": "af138b47fe85b634",
   "execution_count": 1
  },
  {
   "cell_type": "code",
   "outputs": [],
   "source": [
    "#로지스틱 회귀 모델 클래스 생성\n",
    "# - Linear + sigmoid()\n",
    "\n",
    "class LogicLinear(nn.Module):  # nn.Module을 부모 클래스로 둔 자식 클래스 LogicLinear 만들기\n",
    "    \n",
    "    # 모델 구조 설정\n",
    "    def __init__(self, in_, out_, ):\n",
    "        super().__init__()\n",
    "        self.layer1 = nn.Linear(in_,10)\n",
    "        self.sigmoid1 = nn.Sigmoid()\n",
    "        self.layer2 = nn.Linear(10,out_)\n",
    "        self.sigmoid2 = nn.Sigmoid()\n",
    "\n",
    "    #순방향 학습 진행 콜백 함수\n",
    "\n",
    "    def forward(self,x):\n",
    "        y = self.layer1(x)\n",
    "        z = self.sigmoid1(y)\n",
    "        y = self.layer2(z)\n",
    "        z = self.sigmoid2(y)\n",
    "        return z"
   ],
   "metadata": {
    "collapsed": false,
    "ExecuteTime": {
     "end_time": "2024-03-14T08:41:51.291376Z",
     "start_time": "2024-03-14T08:41:51.273166Z"
    }
   },
   "id": "d959cafddd212f3d",
   "execution_count": 19
  },
  {
   "cell_type": "code",
   "outputs": [
    {
     "name": "stdout",
     "output_type": "stream",
     "text": [
      "model structure: LogicLinear(\n",
      "  (layer1): Linear(in_features=10, out_features=10, bias=True)\n",
      "  (sigmoid1): Sigmoid()\n",
      "  (layer2): Linear(in_features=10, out_features=3, bias=True)\n",
      "  (sigmoid2): Sigmoid()\n",
      ")\n"
     ]
    },
    {
     "data": {
      "text/plain": "(LogicLinear(\n   (layer1): Linear(in_features=10, out_features=10, bias=True)\n   (sigmoid1): Sigmoid()\n   (layer2): Linear(in_features=10, out_features=3, bias=True)\n   (sigmoid2): Sigmoid()\n ),\n None)"
     },
     "execution_count": 20,
     "metadata": {},
     "output_type": "execute_result"
    }
   ],
   "source": [
    "# 모델 인스턴스 생성하기\n",
    "ll = LogicLinear(10,3)\n",
    "ll,print(f'model structure: {ll}')"
   ],
   "metadata": {
    "collapsed": false,
    "ExecuteTime": {
     "end_time": "2024-03-14T08:41:52.151137Z",
     "start_time": "2024-03-14T08:41:52.133197Z"
    }
   },
   "id": "4242d39d5811dab1",
   "execution_count": 20
  },
  {
   "cell_type": "code",
   "outputs": [
    {
     "name": "stdout",
     "output_type": "stream",
     "text": [
      "model parameters w,b===========\n",
      "Parameter containing:\n",
      "tensor([[-0.2216, -0.1911, -0.2857,  0.2417, -0.0623,  0.1658, -0.0461, -0.1279,\n",
      "          0.3140,  0.1541],\n",
      "        [ 0.0013,  0.1300, -0.0077, -0.2052,  0.2775, -0.0985, -0.0623,  0.1908,\n",
      "          0.2264,  0.2553],\n",
      "        [ 0.2547, -0.0528, -0.1784, -0.0427,  0.0715,  0.2004, -0.1806,  0.1007,\n",
      "         -0.1689,  0.1418],\n",
      "        [ 0.2535, -0.1055, -0.2281,  0.1242,  0.2158, -0.2031,  0.2498, -0.1271,\n",
      "          0.0692, -0.2864],\n",
      "        [ 0.0054, -0.2266,  0.0999,  0.2330,  0.1186,  0.1956,  0.1740,  0.2297,\n",
      "         -0.1352,  0.1072],\n",
      "        [-0.1285,  0.2681,  0.3059, -0.1213,  0.2734, -0.0680, -0.2978, -0.2644,\n",
      "         -0.0135, -0.1514],\n",
      "        [ 0.0530, -0.2020,  0.0220,  0.1812,  0.2344,  0.0809,  0.3078, -0.2139,\n",
      "         -0.2277, -0.1122],\n",
      "        [-0.2901, -0.0497,  0.0784, -0.1383,  0.2788,  0.2100, -0.2030,  0.2335,\n",
      "         -0.0836, -0.0502],\n",
      "        [ 0.0198, -0.2456,  0.0716,  0.2392, -0.0712,  0.0017, -0.0942,  0.2683,\n",
      "          0.2923, -0.2238],\n",
      "        [-0.0597, -0.0093, -0.1619, -0.1497, -0.0091,  0.1045,  0.1850,  0.1389,\n",
      "          0.3055,  0.1019]], requires_grad=True)\n",
      "Parameter containing:\n",
      "tensor([-0.1524, -0.1236, -0.0542, -0.1301, -0.2998, -0.2569, -0.2309, -0.1454,\n",
      "         0.2178, -0.2641], requires_grad=True)\n",
      "Parameter containing:\n",
      "tensor([[-0.2886, -0.2663,  0.2663,  0.0533,  0.0131,  0.0525, -0.2175,  0.1556,\n",
      "          0.0176,  0.1449],\n",
      "        [ 0.0889,  0.2622, -0.0808, -0.3113, -0.2535, -0.2655,  0.2333,  0.1951,\n",
      "          0.1419,  0.0075],\n",
      "        [ 0.0986,  0.1014,  0.3106, -0.1878,  0.0157,  0.1502,  0.2656, -0.0051,\n",
      "          0.2051, -0.0902]], requires_grad=True)\n",
      "Parameter containing:\n",
      "tensor([ 0.2584, -0.1789, -0.2887], requires_grad=True)\n"
     ]
    }
   ],
   "source": [
    "print(f'model parameters w,b===========')\n",
    "for param in ll.parameters():\n",
    "    print(param)\n"
   ],
   "metadata": {
    "collapsed": false,
    "ExecuteTime": {
     "end_time": "2024-03-14T08:41:57.606746Z",
     "start_time": "2024-03-14T08:41:57.593780Z"
    }
   },
   "id": "90cf4712a3b45f9e",
   "execution_count": 21
  },
  {
   "cell_type": "code",
   "outputs": [],
   "source": [],
   "metadata": {
    "collapsed": false
   },
   "id": "38e35b257d6f156e"
  }
 ],
 "metadata": {
  "kernelspec": {
   "display_name": "Python 3",
   "language": "python",
   "name": "python3"
  },
  "language_info": {
   "codemirror_mode": {
    "name": "ipython",
    "version": 2
   },
   "file_extension": ".py",
   "mimetype": "text/x-python",
   "name": "python",
   "nbconvert_exporter": "python",
   "pygments_lexer": "ipython2",
   "version": "2.7.6"
  }
 },
 "nbformat": 4,
 "nbformat_minor": 5
}
