{
 "cells": [
  {
   "cell_type": "markdown",
   "metadata": {},
   "source": [
    "#### [ 미니 테스트  2024-03-14 ]<hr>"
   ]
  },
  {
   "cell_type": "markdown",
   "metadata": {},
   "source": [
    "[1] 지도학습에 대한 설명과 종류에 대해서 간략하게 설명해 주세요."
   ]
  },
  {
   "cell_type": "markdown",
   "metadata": {},
   "source": []
  },
  {
   "cell_type": "markdown",
   "metadata": {},
   "source": [
    "[2] 지도학습의 학습 프로세스를 간략하게 설명해 주세요."
   ]
  },
  {
   "cell_type": "code",
   "execution_count": 39,
   "metadata": {
    "ExecuteTime": {
     "end_time": "2024-03-14T04:55:59.069759Z",
     "start_time": "2024-03-14T04:55:59.064766Z"
    }
   },
   "outputs": [],
   "source": []
  },
  {
   "cell_type": "markdown",
   "metadata": {},
   "source": [
    "[3] 선형회귀 대해 간략하게 설명해주세요.  \n",
    "    - 개념  \n",
    "    - 조건  \n",
    "    - 동작원리  \n",
    "    - 선형식  \n",
    "    - 오차/잔차 계산 방법  "
   ]
  },
  {
   "cell_type": "markdown",
   "metadata": {},
   "source": [
    "- 개념 \n",
    "    * 선형 회귀란 데이터들의 분포가 선형일 때, 데이터들을 가장 많이 만족하는 직선을 그어서 그 직선을 예측하는 방법\n",
    "- 조건\n",
    "    * 데이터들의 분포가 선형일 것"
   ]
  },
  {
   "cell_type": "markdown",
   "metadata": {},
   "source": [
    "[4] 로지스틱회귀 대해 간략하게 설명해주세요.  \n",
    "   - 개념  \n",
    "   - 조건  \n",
    "   - 동작원리  \n",
    "   - 선형식  \n",
    "   - 오차/잔차 계산 방법  "
   ]
  },
  {
   "cell_type": "markdown",
   "metadata": {},
   "source": [
    " "
   ]
  },
  {
   "cell_type": "markdown",
   "metadata": {},
   "source": [
    "[5] Fashion MNIST 데이터셋에서 10개 카테고리 중 하나를 선택해서 2진 분류로 구현해 주세요.  \n",
    "- 데이터셋 : scikit-learn의 datasets 사용\n",
    "    - from sklearn.datasets import fetch_openml \n",
    "    - db_name = 'Fashion-MNIST'\n",
    "    - fashion_data = fetch_openml(name=db_name, parser='auto')"
   ]
  },
  {
   "cell_type": "code",
   "outputs": [],
   "source": [
    "import pandas as pd\n",
    "import numpy as np\n",
    "import torch\n",
    "from sklearn.datasets import fetch_openml\n",
    "import torch.nn as nn                           #linearRegression 기능의 클래스 Linear\n",
    "import torch.nn.functional as F                 #손실함수\n",
    "import torch.optim as optim                     #경사하강법 기반의 최적화 관련 모듈\n",
    "\n",
    "#데이터 준비\n",
    "dbname = 'Fashion-MNIST'\n",
    "fashiondata = fetch_openml(name= dbname, parser='auto', as_frame=True)\n"
   ],
   "metadata": {
    "collapsed": false,
    "ExecuteTime": {
     "end_time": "2024-03-14T04:56:02.856212Z",
     "start_time": "2024-03-14T04:55:59.126191Z"
    }
   },
   "execution_count": 40
  },
  {
   "cell_type": "code",
   "outputs": [],
   "source": [
    "#데이터 확인\n",
    "\n",
    "feature = fashiondata['data']\n",
    "target = fashiondata['target']"
   ],
   "metadata": {
    "collapsed": false,
    "ExecuteTime": {
     "end_time": "2024-03-14T04:56:02.886671Z",
     "start_time": "2024-03-14T04:56:02.858714Z"
    }
   },
   "execution_count": 41
  },
  {
   "cell_type": "code",
   "execution_count": 42,
   "metadata": {
    "ExecuteTime": {
     "end_time": "2024-03-14T04:56:02.902588Z",
     "start_time": "2024-03-14T04:56:02.887607Z"
    }
   },
   "outputs": [
    {
     "name": "stdout",
     "output_type": "stream",
     "text": [
      "[feature] : (70000, 784),2D\n",
      "[target] : (70000,),1D\n"
     ]
    }
   ],
   "source": [
    "#feature, target 갯수 확인\n",
    "print(f'[feature] : {feature.shape},{feature.ndim}D')\n",
    "print(f'[target] : {target.shape},{target.ndim}D')"
   ]
  },
  {
   "cell_type": "code",
   "outputs": [
    {
     "name": "stdout",
     "output_type": "stream",
     "text": [
      "[feature]; ['pixel1', 'pixel2', 'pixel3', 'pixel4', 'pixel5', 'pixel6', 'pixel7', 'pixel8', 'pixel9', 'pixel10', 'pixel11', 'pixel12', 'pixel13', 'pixel14', 'pixel15', 'pixel16', 'pixel17', 'pixel18', 'pixel19', 'pixel20', 'pixel21', 'pixel22', 'pixel23', 'pixel24', 'pixel25', 'pixel26', 'pixel27', 'pixel28', 'pixel29', 'pixel30', 'pixel31', 'pixel32', 'pixel33', 'pixel34', 'pixel35', 'pixel36', 'pixel37', 'pixel38', 'pixel39', 'pixel40', 'pixel41', 'pixel42', 'pixel43', 'pixel44', 'pixel45', 'pixel46', 'pixel47', 'pixel48', 'pixel49', 'pixel50', 'pixel51', 'pixel52', 'pixel53', 'pixel54', 'pixel55', 'pixel56', 'pixel57', 'pixel58', 'pixel59', 'pixel60', 'pixel61', 'pixel62', 'pixel63', 'pixel64', 'pixel65', 'pixel66', 'pixel67', 'pixel68', 'pixel69', 'pixel70', 'pixel71', 'pixel72', 'pixel73', 'pixel74', 'pixel75', 'pixel76', 'pixel77', 'pixel78', 'pixel79', 'pixel80', 'pixel81', 'pixel82', 'pixel83', 'pixel84', 'pixel85', 'pixel86', 'pixel87', 'pixel88', 'pixel89', 'pixel90', 'pixel91', 'pixel92', 'pixel93', 'pixel94', 'pixel95', 'pixel96', 'pixel97', 'pixel98', 'pixel99', 'pixel100', 'pixel101', 'pixel102', 'pixel103', 'pixel104', 'pixel105', 'pixel106', 'pixel107', 'pixel108', 'pixel109', 'pixel110', 'pixel111', 'pixel112', 'pixel113', 'pixel114', 'pixel115', 'pixel116', 'pixel117', 'pixel118', 'pixel119', 'pixel120', 'pixel121', 'pixel122', 'pixel123', 'pixel124', 'pixel125', 'pixel126', 'pixel127', 'pixel128', 'pixel129', 'pixel130', 'pixel131', 'pixel132', 'pixel133', 'pixel134', 'pixel135', 'pixel136', 'pixel137', 'pixel138', 'pixel139', 'pixel140', 'pixel141', 'pixel142', 'pixel143', 'pixel144', 'pixel145', 'pixel146', 'pixel147', 'pixel148', 'pixel149', 'pixel150', 'pixel151', 'pixel152', 'pixel153', 'pixel154', 'pixel155', 'pixel156', 'pixel157', 'pixel158', 'pixel159', 'pixel160', 'pixel161', 'pixel162', 'pixel163', 'pixel164', 'pixel165', 'pixel166', 'pixel167', 'pixel168', 'pixel169', 'pixel170', 'pixel171', 'pixel172', 'pixel173', 'pixel174', 'pixel175', 'pixel176', 'pixel177', 'pixel178', 'pixel179', 'pixel180', 'pixel181', 'pixel182', 'pixel183', 'pixel184', 'pixel185', 'pixel186', 'pixel187', 'pixel188', 'pixel189', 'pixel190', 'pixel191', 'pixel192', 'pixel193', 'pixel194', 'pixel195', 'pixel196', 'pixel197', 'pixel198', 'pixel199', 'pixel200', 'pixel201', 'pixel202', 'pixel203', 'pixel204', 'pixel205', 'pixel206', 'pixel207', 'pixel208', 'pixel209', 'pixel210', 'pixel211', 'pixel212', 'pixel213', 'pixel214', 'pixel215', 'pixel216', 'pixel217', 'pixel218', 'pixel219', 'pixel220', 'pixel221', 'pixel222', 'pixel223', 'pixel224', 'pixel225', 'pixel226', 'pixel227', 'pixel228', 'pixel229', 'pixel230', 'pixel231', 'pixel232', 'pixel233', 'pixel234', 'pixel235', 'pixel236', 'pixel237', 'pixel238', 'pixel239', 'pixel240', 'pixel241', 'pixel242', 'pixel243', 'pixel244', 'pixel245', 'pixel246', 'pixel247', 'pixel248', 'pixel249', 'pixel250', 'pixel251', 'pixel252', 'pixel253', 'pixel254', 'pixel255', 'pixel256', 'pixel257', 'pixel258', 'pixel259', 'pixel260', 'pixel261', 'pixel262', 'pixel263', 'pixel264', 'pixel265', 'pixel266', 'pixel267', 'pixel268', 'pixel269', 'pixel270', 'pixel271', 'pixel272', 'pixel273', 'pixel274', 'pixel275', 'pixel276', 'pixel277', 'pixel278', 'pixel279', 'pixel280', 'pixel281', 'pixel282', 'pixel283', 'pixel284', 'pixel285', 'pixel286', 'pixel287', 'pixel288', 'pixel289', 'pixel290', 'pixel291', 'pixel292', 'pixel293', 'pixel294', 'pixel295', 'pixel296', 'pixel297', 'pixel298', 'pixel299', 'pixel300', 'pixel301', 'pixel302', 'pixel303', 'pixel304', 'pixel305', 'pixel306', 'pixel307', 'pixel308', 'pixel309', 'pixel310', 'pixel311', 'pixel312', 'pixel313', 'pixel314', 'pixel315', 'pixel316', 'pixel317', 'pixel318', 'pixel319', 'pixel320', 'pixel321', 'pixel322', 'pixel323', 'pixel324', 'pixel325', 'pixel326', 'pixel327', 'pixel328', 'pixel329', 'pixel330', 'pixel331', 'pixel332', 'pixel333', 'pixel334', 'pixel335', 'pixel336', 'pixel337', 'pixel338', 'pixel339', 'pixel340', 'pixel341', 'pixel342', 'pixel343', 'pixel344', 'pixel345', 'pixel346', 'pixel347', 'pixel348', 'pixel349', 'pixel350', 'pixel351', 'pixel352', 'pixel353', 'pixel354', 'pixel355', 'pixel356', 'pixel357', 'pixel358', 'pixel359', 'pixel360', 'pixel361', 'pixel362', 'pixel363', 'pixel364', 'pixel365', 'pixel366', 'pixel367', 'pixel368', 'pixel369', 'pixel370', 'pixel371', 'pixel372', 'pixel373', 'pixel374', 'pixel375', 'pixel376', 'pixel377', 'pixel378', 'pixel379', 'pixel380', 'pixel381', 'pixel382', 'pixel383', 'pixel384', 'pixel385', 'pixel386', 'pixel387', 'pixel388', 'pixel389', 'pixel390', 'pixel391', 'pixel392', 'pixel393', 'pixel394', 'pixel395', 'pixel396', 'pixel397', 'pixel398', 'pixel399', 'pixel400', 'pixel401', 'pixel402', 'pixel403', 'pixel404', 'pixel405', 'pixel406', 'pixel407', 'pixel408', 'pixel409', 'pixel410', 'pixel411', 'pixel412', 'pixel413', 'pixel414', 'pixel415', 'pixel416', 'pixel417', 'pixel418', 'pixel419', 'pixel420', 'pixel421', 'pixel422', 'pixel423', 'pixel424', 'pixel425', 'pixel426', 'pixel427', 'pixel428', 'pixel429', 'pixel430', 'pixel431', 'pixel432', 'pixel433', 'pixel434', 'pixel435', 'pixel436', 'pixel437', 'pixel438', 'pixel439', 'pixel440', 'pixel441', 'pixel442', 'pixel443', 'pixel444', 'pixel445', 'pixel446', 'pixel447', 'pixel448', 'pixel449', 'pixel450', 'pixel451', 'pixel452', 'pixel453', 'pixel454', 'pixel455', 'pixel456', 'pixel457', 'pixel458', 'pixel459', 'pixel460', 'pixel461', 'pixel462', 'pixel463', 'pixel464', 'pixel465', 'pixel466', 'pixel467', 'pixel468', 'pixel469', 'pixel470', 'pixel471', 'pixel472', 'pixel473', 'pixel474', 'pixel475', 'pixel476', 'pixel477', 'pixel478', 'pixel479', 'pixel480', 'pixel481', 'pixel482', 'pixel483', 'pixel484', 'pixel485', 'pixel486', 'pixel487', 'pixel488', 'pixel489', 'pixel490', 'pixel491', 'pixel492', 'pixel493', 'pixel494', 'pixel495', 'pixel496', 'pixel497', 'pixel498', 'pixel499', 'pixel500', 'pixel501', 'pixel502', 'pixel503', 'pixel504', 'pixel505', 'pixel506', 'pixel507', 'pixel508', 'pixel509', 'pixel510', 'pixel511', 'pixel512', 'pixel513', 'pixel514', 'pixel515', 'pixel516', 'pixel517', 'pixel518', 'pixel519', 'pixel520', 'pixel521', 'pixel522', 'pixel523', 'pixel524', 'pixel525', 'pixel526', 'pixel527', 'pixel528', 'pixel529', 'pixel530', 'pixel531', 'pixel532', 'pixel533', 'pixel534', 'pixel535', 'pixel536', 'pixel537', 'pixel538', 'pixel539', 'pixel540', 'pixel541', 'pixel542', 'pixel543', 'pixel544', 'pixel545', 'pixel546', 'pixel547', 'pixel548', 'pixel549', 'pixel550', 'pixel551', 'pixel552', 'pixel553', 'pixel554', 'pixel555', 'pixel556', 'pixel557', 'pixel558', 'pixel559', 'pixel560', 'pixel561', 'pixel562', 'pixel563', 'pixel564', 'pixel565', 'pixel566', 'pixel567', 'pixel568', 'pixel569', 'pixel570', 'pixel571', 'pixel572', 'pixel573', 'pixel574', 'pixel575', 'pixel576', 'pixel577', 'pixel578', 'pixel579', 'pixel580', 'pixel581', 'pixel582', 'pixel583', 'pixel584', 'pixel585', 'pixel586', 'pixel587', 'pixel588', 'pixel589', 'pixel590', 'pixel591', 'pixel592', 'pixel593', 'pixel594', 'pixel595', 'pixel596', 'pixel597', 'pixel598', 'pixel599', 'pixel600', 'pixel601', 'pixel602', 'pixel603', 'pixel604', 'pixel605', 'pixel606', 'pixel607', 'pixel608', 'pixel609', 'pixel610', 'pixel611', 'pixel612', 'pixel613', 'pixel614', 'pixel615', 'pixel616', 'pixel617', 'pixel618', 'pixel619', 'pixel620', 'pixel621', 'pixel622', 'pixel623', 'pixel624', 'pixel625', 'pixel626', 'pixel627', 'pixel628', 'pixel629', 'pixel630', 'pixel631', 'pixel632', 'pixel633', 'pixel634', 'pixel635', 'pixel636', 'pixel637', 'pixel638', 'pixel639', 'pixel640', 'pixel641', 'pixel642', 'pixel643', 'pixel644', 'pixel645', 'pixel646', 'pixel647', 'pixel648', 'pixel649', 'pixel650', 'pixel651', 'pixel652', 'pixel653', 'pixel654', 'pixel655', 'pixel656', 'pixel657', 'pixel658', 'pixel659', 'pixel660', 'pixel661', 'pixel662', 'pixel663', 'pixel664', 'pixel665', 'pixel666', 'pixel667', 'pixel668', 'pixel669', 'pixel670', 'pixel671', 'pixel672', 'pixel673', 'pixel674', 'pixel675', 'pixel676', 'pixel677', 'pixel678', 'pixel679', 'pixel680', 'pixel681', 'pixel682', 'pixel683', 'pixel684', 'pixel685', 'pixel686', 'pixel687', 'pixel688', 'pixel689', 'pixel690', 'pixel691', 'pixel692', 'pixel693', 'pixel694', 'pixel695', 'pixel696', 'pixel697', 'pixel698', 'pixel699', 'pixel700', 'pixel701', 'pixel702', 'pixel703', 'pixel704', 'pixel705', 'pixel706', 'pixel707', 'pixel708', 'pixel709', 'pixel710', 'pixel711', 'pixel712', 'pixel713', 'pixel714', 'pixel715', 'pixel716', 'pixel717', 'pixel718', 'pixel719', 'pixel720', 'pixel721', 'pixel722', 'pixel723', 'pixel724', 'pixel725', 'pixel726', 'pixel727', 'pixel728', 'pixel729', 'pixel730', 'pixel731', 'pixel732', 'pixel733', 'pixel734', 'pixel735', 'pixel736', 'pixel737', 'pixel738', 'pixel739', 'pixel740', 'pixel741', 'pixel742', 'pixel743', 'pixel744', 'pixel745', 'pixel746', 'pixel747', 'pixel748', 'pixel749', 'pixel750', 'pixel751', 'pixel752', 'pixel753', 'pixel754', 'pixel755', 'pixel756', 'pixel757', 'pixel758', 'pixel759', 'pixel760', 'pixel761', 'pixel762', 'pixel763', 'pixel764', 'pixel765', 'pixel766', 'pixel767', 'pixel768', 'pixel769', 'pixel770', 'pixel771', 'pixel772', 'pixel773', 'pixel774', 'pixel775', 'pixel776', 'pixel777', 'pixel778', 'pixel779', 'pixel780', 'pixel781', 'pixel782', 'pixel783', 'pixel784']\n",
      "[target]; ['class']\n",
      "[Categories] : None\n"
     ]
    }
   ],
   "source": [
    "#분류 확인\n",
    "print(f'[feature]; {fashiondata[\"feature_names\"]}')\n",
    "print(f'[target]; {fashiondata[\"target_names\"]}')\n",
    "print(f'[Categories] : {fashiondata[\"categories\"]}')"
   ],
   "metadata": {
    "collapsed": false,
    "ExecuteTime": {
     "end_time": "2024-03-14T04:56:02.918541Z",
     "start_time": "2024-03-14T04:56:02.903582Z"
    }
   },
   "execution_count": 43
  },
  {
   "cell_type": "markdown",
   "source": [
    "2. 데이터 전처리/가공 <hr>\n",
    "- 결측치 / 중복값 / 이상치 < 없음\n",
    "- 다중 분류 => 이진분류 변환 : target 변환\n",
    "- 표준화 : 이미지 리사이징(크기, 색상 채널) : 동일 크기(28 * 28)와 색상 채널(흑백 1)\n",
    "- 정규화 : feature 정규화, target 정규화"
   ],
   "metadata": {
    "collapsed": false
   }
  },
  {
   "cell_type": "code",
   "outputs": [],
   "source": [
    "# 2 - 1. 다중분류 => 이진분류 번환 : target 변환\n",
    "\n",
    "#target.replace('0',1)\n",
    "target = target =='0'\n",
    "target\n",
    "target = target.to_frame()"
   ],
   "metadata": {
    "collapsed": false,
    "ExecuteTime": {
     "end_time": "2024-03-14T04:56:02.934488Z",
     "start_time": "2024-03-14T04:56:02.920527Z"
    }
   },
   "execution_count": 44
  },
  {
   "cell_type": "code",
   "outputs": [
    {
     "data": {
      "text/plain": "array([False,  True])"
     },
     "execution_count": 45,
     "metadata": {},
     "output_type": "execute_result"
    }
   ],
   "source": [
    "target['class'].unique()"
   ],
   "metadata": {
    "collapsed": false,
    "ExecuteTime": {
     "end_time": "2024-03-14T04:56:02.950435Z",
     "start_time": "2024-03-14T04:56:02.935475Z"
    }
   },
   "execution_count": 45
  },
  {
   "cell_type": "code",
   "outputs": [],
   "source": [
    "# 2 - 2. 정규화:  feature : 784개의 색상값 - 0~255\n",
    "norm_feature = feature/255."
   ],
   "metadata": {
    "collapsed": false,
    "ExecuteTime": {
     "end_time": "2024-03-14T04:56:02.998325Z",
     "start_time": "2024-03-14T04:56:02.952418Z"
    }
   },
   "execution_count": 46
  },
  {
   "cell_type": "code",
   "outputs": [
    {
     "data": {
      "text/plain": "       class\n0      False\n1       True\n2       True\n3      False\n4       True\n...      ...\n69995  False\n69996  False\n69997  False\n69998  False\n69999  False\n\n[70000 rows x 1 columns]",
      "text/html": "<div>\n<style scoped>\n    .dataframe tbody tr th:only-of-type {\n        vertical-align: middle;\n    }\n\n    .dataframe tbody tr th {\n        vertical-align: top;\n    }\n\n    .dataframe thead th {\n        text-align: right;\n    }\n</style>\n<table border=\"1\" class=\"dataframe\">\n  <thead>\n    <tr style=\"text-align: right;\">\n      <th></th>\n      <th>class</th>\n    </tr>\n  </thead>\n  <tbody>\n    <tr>\n      <th>0</th>\n      <td>False</td>\n    </tr>\n    <tr>\n      <th>1</th>\n      <td>True</td>\n    </tr>\n    <tr>\n      <th>2</th>\n      <td>True</td>\n    </tr>\n    <tr>\n      <th>3</th>\n      <td>False</td>\n    </tr>\n    <tr>\n      <th>4</th>\n      <td>True</td>\n    </tr>\n    <tr>\n      <th>...</th>\n      <td>...</td>\n    </tr>\n    <tr>\n      <th>69995</th>\n      <td>False</td>\n    </tr>\n    <tr>\n      <th>69996</th>\n      <td>False</td>\n    </tr>\n    <tr>\n      <th>69997</th>\n      <td>False</td>\n    </tr>\n    <tr>\n      <th>69998</th>\n      <td>False</td>\n    </tr>\n    <tr>\n      <th>69999</th>\n      <td>False</td>\n    </tr>\n  </tbody>\n</table>\n<p>70000 rows × 1 columns</p>\n</div>"
     },
     "execution_count": 47,
     "metadata": {},
     "output_type": "execute_result"
    }
   ],
   "source": [
    "# 2 - 2. 정규화: target : One-hot Encode\n",
    "pd.get_dummies(target)"
   ],
   "metadata": {
    "collapsed": false,
    "ExecuteTime": {
     "end_time": "2024-03-14T04:56:03.014168Z",
     "start_time": "2024-03-14T04:56:02.999311Z"
    }
   },
   "execution_count": 47
  },
  {
   "cell_type": "code",
   "outputs": [
    {
     "data": {
      "text/plain": "[array([False,  True])]"
     },
     "execution_count": 48,
     "metadata": {},
     "output_type": "execute_result"
    }
   ],
   "source": [
    "from sklearn.preprocessing import OneHotEncoder\n",
    "\n",
    "ohEncoder = OneHotEncoder(sparse_output=False) #1차원만. \n",
    "ohEncoder.fit(target)\n",
    "ohEncoder.categories_"
   ],
   "metadata": {
    "collapsed": false,
    "ExecuteTime": {
     "end_time": "2024-03-14T04:56:03.029371Z",
     "start_time": "2024-03-14T04:56:03.017044Z"
    }
   },
   "execution_count": 48
  },
  {
   "cell_type": "code",
   "outputs": [],
   "source": [
    "#ohEncoder.transform([target]).toarray()\n",
    "norm_target = ohEncoder.transform(target)\n"
   ],
   "metadata": {
    "collapsed": false,
    "ExecuteTime": {
     "end_time": "2024-03-14T04:56:03.044402Z",
     "start_time": "2024-03-14T04:56:03.030882Z"
    }
   },
   "execution_count": 49
  },
  {
   "cell_type": "code",
   "outputs": [
    {
     "data": {
      "text/plain": "((70000, 2), 2)"
     },
     "execution_count": 50,
     "metadata": {},
     "output_type": "execute_result"
    }
   ],
   "source": [
    "norm_target.shape, norm_target.ndim"
   ],
   "metadata": {
    "collapsed": false,
    "ExecuteTime": {
     "end_time": "2024-03-14T04:56:03.059447Z",
     "start_time": "2024-03-14T04:56:03.045908Z"
    }
   },
   "execution_count": 50
  },
  {
   "cell_type": "markdown",
   "source": [
    "3. 학습 준비\n",
    "- 데이터셋 준비: 60000개 훈련/ 10000개 테스트\n",
    "- 텐서화\n",
    "- 학습 방법 : 지도학습 - 이진분류 -> Linear class + sigmoid 함수\n",
    "- 최적화방법 : 경사하강법기반의 방법 : Adam, SDG, ...\n",
    "- 손실함수 : 이진분류 손실계산함수=> binary_cross_entropy"
   ],
   "metadata": {
    "collapsed": false
   }
  },
  {
   "cell_type": "code",
   "outputs": [],
   "source": [],
   "metadata": {
    "collapsed": false,
    "ExecuteTime": {
     "end_time": "2024-03-14T04:56:03.075513Z",
     "start_time": "2024-03-14T04:56:03.060690Z"
    }
   },
   "execution_count": 50
  },
  {
   "cell_type": "code",
   "outputs": [],
   "source": [
    "#데이터셋 준비\n",
    "limit = 60000\n",
    "train = norm_feature.iloc[:limit]\n",
    "test = norm_feature.iloc[limit:]\n",
    "ytrain = target[:limit]\n",
    "ytest = target[limit:]"
   ],
   "metadata": {
    "collapsed": false,
    "ExecuteTime": {
     "end_time": "2024-03-14T04:56:03.107256Z",
     "start_time": "2024-03-14T04:56:03.077495Z"
    }
   },
   "execution_count": 51
  },
  {
   "cell_type": "code",
   "outputs": [
    {
     "name": "stdout",
     "output_type": "stream",
     "text": [
      "train(60000, 784),2\n",
      "test(10000, 784),2\n",
      "train(60000, 1),2\n",
      "train(10000, 1),2\n"
     ]
    }
   ],
   "source": [
    "print(f'train{train.shape},{train.ndim}')\n",
    "print(f'test{test.shape},{test.ndim}')\n",
    "print(f'train{ytrain.shape},{ytrain.ndim}')\n",
    "print(f'train{ytest.shape},{ytest.ndim}')\n"
   ],
   "metadata": {
    "collapsed": false,
    "ExecuteTime": {
     "end_time": "2024-03-14T04:56:03.122756Z",
     "start_time": "2024-03-14T04:56:03.111612Z"
    }
   },
   "execution_count": 52
  },
  {
   "cell_type": "code",
   "outputs": [],
   "source": [
    "#tensorize\n",
    "\n",
    "xtrain = torch.FloatTensor(train.values)\n",
    "xtest = torch.FloatTensor(test.values) #values = array 추출\n",
    "ytrain = torch.FloatTensor(ytrain.values)\n",
    "ytest = torch.FloatTensor(ytest.values)"
   ],
   "metadata": {
    "collapsed": false,
    "ExecuteTime": {
     "end_time": "2024-03-14T04:56:03.169814Z",
     "start_time": "2024-03-14T04:56:03.123936Z"
    }
   },
   "execution_count": 53
  },
  {
   "cell_type": "code",
   "outputs": [
    {
     "data": {
      "text/plain": "Linear(in_features=784, out_features=1, bias=True)"
     },
     "execution_count": 54,
     "metadata": {},
     "output_type": "execute_result"
    }
   ],
   "source": [
    "# 학습 인스턴스 생성\n",
    "\n",
    "in_, out_ = xtrain.shape[1], ytrain.shape[1]\n",
    "model = nn.Linear(in_, out_)\n",
    "model"
   ],
   "metadata": {
    "collapsed": false,
    "ExecuteTime": {
     "end_time": "2024-03-14T04:56:03.185002Z",
     "start_time": "2024-03-14T04:56:03.171242Z"
    }
   },
   "execution_count": 54
  },
  {
   "cell_type": "code",
   "outputs": [],
   "source": [
    "## 최적화 인스턴스 생성하기 -> 모델에서 사용하는 W, b 변수들 전달하기\n",
    "optimizer = optim.Adam(model.parameters())"
   ],
   "metadata": {
    "collapsed": false,
    "ExecuteTime": {
     "end_time": "2024-03-14T04:56:03.200354Z",
     "start_time": "2024-03-14T04:56:03.186248Z"
    }
   },
   "execution_count": 55
  },
  {
   "cell_type": "code",
   "outputs": [],
   "source": [
    "# 학습 횟수 : 샘플 처음부터 끝까지 읽는 것 기준으로 횟수 지정\n",
    "EPOCHS = 150"
   ],
   "metadata": {
    "collapsed": false,
    "ExecuteTime": {
     "end_time": "2024-03-14T04:56:03.215824Z",
     "start_time": "2024-03-14T04:56:03.202351Z"
    }
   },
   "execution_count": 56
  },
  {
   "cell_type": "markdown",
   "source": [
    "4. 학습\n",
    "<hr>\n",
    "- 반복 횟수만큼 학습 진행"
   ],
   "metadata": {
    "collapsed": false
   }
  },
  {
   "cell_type": "code",
   "outputs": [
    {
     "name": "stdout",
     "output_type": "stream",
     "text": [
      "0->0.12021062523126602\n",
      "1->0.12018071115016937\n",
      "2->0.12015088647603989\n",
      "3->0.12012115865945816\n",
      "4->0.1200915277004242\n",
      "5->0.1200619786977768\n",
      "6->0.12003253400325775\n",
      "7->0.12000317126512527\n",
      "8->0.11997388303279877\n",
      "9->0.11994471400976181\n",
      "10->0.11991561204195023\n",
      "11->0.1198866069316864\n",
      "12->0.11985768377780914\n",
      "13->0.11982884258031845\n",
      "14->0.11980009824037552\n",
      "15->0.11977143585681915\n",
      "16->0.11974285542964935\n",
      "17->0.11971435695886612\n",
      "18->0.11968595534563065\n",
      "19->0.11965762078762054\n",
      "20->0.11962936073541641\n",
      "21->0.11960120499134064\n",
      "22->0.11957313120365143\n",
      "23->0.119545117020607\n",
      "24->0.11951718479394913\n",
      "25->0.11948935687541962\n",
      "26->0.11946158111095428\n",
      "27->0.11943388730287552\n",
      "28->0.11940628290176392\n",
      "29->0.11937874555587769\n",
      "30->0.11935130506753922\n",
      "31->0.11932390928268433\n",
      "32->0.1192966178059578\n",
      "33->0.11926937848329544\n",
      "34->0.11924222111701965\n",
      "35->0.11921513825654984\n",
      "36->0.11918812990188599\n",
      "37->0.1191611960530281\n",
      "38->0.1191343292593956\n",
      "39->0.11910754442214966\n",
      "40->0.11908082664012909\n",
      "41->0.11905417591333389\n",
      "42->0.11902758479118347\n",
      "43->0.11900109052658081\n",
      "44->0.11897464096546173\n",
      "45->0.11894827336072922\n",
      "46->0.11892198026180267\n",
      "47->0.1188957542181015\n",
      "48->0.11886958032846451\n",
      "49->0.11884347349405289\n",
      "50->0.11881744861602783\n",
      "51->0.11879149079322815\n",
      "52->0.11876559257507324\n",
      "53->0.11873974651098251\n",
      "54->0.11871398985385895\n",
      "55->0.11868827790021896\n",
      "56->0.11866264790296555\n",
      "57->0.1186370700597763\n",
      "58->0.11861155927181244\n",
      "59->0.11858610808849335\n",
      "60->0.11856073141098022\n",
      "61->0.11853540688753128\n",
      "62->0.1185101568698883\n",
      "63->0.11848495155572891\n",
      "64->0.11845982074737549\n",
      "65->0.11843474209308624\n",
      "66->0.11840971559286118\n",
      "67->0.11838476359844208\n",
      "68->0.11835987120866776\n",
      "69->0.11833503097295761\n",
      "70->0.11831025034189224\n",
      "71->0.11828553676605225\n",
      "72->0.11826088279485703\n",
      "73->0.11823628097772598\n",
      "74->0.11821173131465912\n",
      "75->0.11818724125623703\n",
      "76->0.11816282570362091\n",
      "77->0.11813844740390778\n",
      "78->0.11811413615942001\n",
      "79->0.11808986216783524\n",
      "80->0.11806565523147583\n",
      "81->0.1180415004491806\n",
      "82->0.11801741272211075\n",
      "83->0.11799336969852448\n",
      "84->0.11796939373016357\n",
      "85->0.11794546246528625\n",
      "86->0.11792156845331192\n",
      "87->0.11789775639772415\n",
      "88->0.11787397414445877\n",
      "89->0.11785026639699936\n",
      "90->0.11782659590244293\n",
      "91->0.11780299246311188\n",
      "92->0.11777942627668381\n",
      "93->0.11775591969490051\n",
      "94->0.1177324652671814\n",
      "95->0.11770905554294586\n",
      "96->0.11768569052219391\n",
      "97->0.11766240000724792\n",
      "98->0.11763914674520493\n",
      "99->0.11761592328548431\n",
      "100->0.11759277433156967\n",
      "101->0.11756967753171921\n",
      "102->0.11754661798477173\n",
      "103->0.11752361804246902\n",
      "104->0.1175006628036499\n",
      "105->0.11747775226831436\n",
      "106->0.117454893887043\n",
      "107->0.11743207275867462\n",
      "108->0.11740931123495102\n",
      "109->0.1173865869641304\n",
      "110->0.11736392974853516\n",
      "111->0.1173413023352623\n",
      "112->0.11731871962547302\n",
      "113->0.11729618906974792\n",
      "114->0.117273710668087\n",
      "115->0.11725126951932907\n",
      "116->0.11722888797521591\n",
      "117->0.11720654368400574\n",
      "118->0.11718424409627914\n",
      "119->0.11716198176145554\n",
      "120->0.1171397790312767\n",
      "121->0.11711761355400085\n",
      "122->0.11709550023078918\n",
      "123->0.1170734241604805\n",
      "124->0.1170513853430748\n",
      "125->0.11702939122915268\n",
      "126->0.11700745671987534\n",
      "127->0.11698555201292038\n",
      "128->0.1169636994600296\n",
      "129->0.1169418916106224\n",
      "130->0.1169201135635376\n",
      "131->0.11689838767051697\n",
      "132->0.11687669903039932\n",
      "133->0.11685504764318466\n",
      "134->0.11683345586061478\n",
      "135->0.11681187897920609\n",
      "136->0.11679038405418396\n",
      "137->0.11676890403032303\n",
      "138->0.11674746125936508\n",
      "139->0.11672608554363251\n",
      "140->0.11670471727848053\n",
      "141->0.11668340861797333\n",
      "142->0.11666214466094971\n",
      "143->0.11664091050624847\n",
      "144->0.11661971360445023\n",
      "145->0.11659856885671616\n",
      "146->0.11657746136188507\n",
      "147->0.11655638366937637\n",
      "148->0.11653535813093185\n",
      "149->0.11651436239480972\n"
     ]
    }
   ],
   "source": [
    "loss=[]\n",
    "loss_accuracy=[[],[]]\n",
    "for e in range(EPOCHS):\n",
    "    # 학습\n",
    "    prey = model(xtrain)\n",
    "    #print(f'예측값 : {prey}')\n",
    "\n",
    "    # 분류값 변환\n",
    "    prey2 = F.sigmoid(prey)\n",
    "    #print(f'분류값 : {prey2}')\n",
    "    # 손실(오차) 계산\n",
    "    lossitem = F.binary_cross_entropy(prey2, ytrain)\n",
    "    loss_accuracy[0].append(lossitem.item())\n",
    "    print(f'{e}->{lossitem}')\n",
    "    #W, b 업데이트하기\n",
    "    optimizer.zero_grad()\n",
    "    lossitem.backward() #손실함수 계산값으로 미분 진행, 새로운 W,b 계산\n",
    "    optimizer.step() # 새로운 값으로 W,b update\n",
    "    \n",
    "    #정확도 계산하기: 예측값 0,1 로 변환-> 정답과 비교\n",
    "    train_accuracy = ((ytrain == (prey2 >= 0.5))).sum() / ytrain.shape[0]\n",
    "    loss_accuracy[1].append(train_accuracy.item())\n",
    "\n"
   ],
   "metadata": {
    "collapsed": false,
    "ExecuteTime": {
     "end_time": "2024-03-14T05:14:08.321636Z",
     "start_time": "2024-03-14T05:14:06.592515Z"
    }
   },
   "execution_count": 66
  },
  {
   "cell_type": "code",
   "outputs": [
    {
     "data": {
      "text/plain": "<Figure size 640x480 with 2 Axes>",
      "image/png": "[encoded data removed]"
     },
     "metadata": {},
     "output_type": "display_data"
    }
   ],
   "source": [
    "## 손실과 정확도 시각화\n",
    "import matplotlib.pyplot as plt\n",
    "fig, ax1 = plt.subplots()\n",
    "ax1.plot(loss_accuracy[0], label = 'loss', color='red')\n",
    "ax1.set_xlabel('loss')\n",
    "ax2 = ax1.twinx()\n",
    "\n",
    "ax2.plot(loss_accuracy[1], label = 'Accuracy', color='blue')\n",
    "\n",
    "ax1.legend()\n",
    "ax2.legend()\n",
    "plt.xlabel('Epochs')\n",
    "plt.show()"
   ],
   "metadata": {
    "collapsed": false,
    "ExecuteTime": {
     "end_time": "2024-03-14T05:18:49.979239Z",
     "start_time": "2024-03-14T05:18:49.804707Z"
    }
   },
   "execution_count": 73
  },
  {
   "cell_type": "code",
   "outputs": [],
   "source": [],
   "metadata": {
    "collapsed": false
   }
  }
 ],
 "metadata": {
  "kernelspec": {
   "display_name": "TORCH_PY38",
   "language": "python",
   "name": "python3"
  },
  "language_info": {
   "codemirror_mode": {
    "name": "ipython",
    "version": 3
   },
   "file_extension": ".py",
   "mimetype": "text/x-python",
   "name": "python",
   "nbconvert_exporter": "python",
   "pygments_lexer": "ipython3",
   "version": "3.8.18"
  }
 },
 "nbformat": 4,
 "nbformat_minor": 2
}
