{
 "cells": [
  {
   "cell_type": "markdown",
   "source": [
    "### softmax(), sigmoid() <hr>\n",
    "\n",
    "- sigmoid() : y = wx+b 결과를 한 개만 전달 => 반환 : 0.0 ~ 1.0 사이의 값으로 변환  -> 이진분류\n",
    "- softmax() : y = wx+b 결과를 여러 개 전달 => 반환 : 여러 개의 결과값의 합이 1.0이 되도로 변환 -> 다중분류"
   ],
   "metadata": {
    "collapsed": false
   },
   "id": "bed91cfae4b5f41"
  },
  {
   "cell_type": "code",
   "outputs": [],
   "source": [
    "# 모듈 로딩\n",
    "import torch                       # pytorch 기본 모듈, 텐서 / 기본 함수들\n",
    "import torch.nn.functional as F    # pytorch 인공신경망 관련 함수들"
   ],
   "metadata": {
    "collapsed": false,
    "ExecuteTime": {
     "end_time": "2024-03-14T01:29:48.567492Z",
     "start_time": "2024-03-14T01:29:47.240320Z"
    }
   },
   "id": "a8e7d0f5a3d463a8",
   "execution_count": 1
  },
  {
   "cell_type": "code",
   "outputs": [
    {
     "data": {
      "text/plain": "torch.Size([5])"
     },
     "execution_count": 2,
     "metadata": {},
     "output_type": "execute_result"
    }
   ],
   "source": [
    "# 임의 데이터 생성\n",
    "data1 = torch.tensor([1,2,1,1,2])\n",
    "data1.shape"
   ],
   "metadata": {
    "collapsed": false,
    "ExecuteTime": {
     "end_time": "2024-03-14T01:30:09.221677Z",
     "start_time": "2024-03-14T01:30:09.206726Z"
    }
   },
   "id": "10fbfee7997b3b31",
   "execution_count": 2
  },
  {
   "cell_type": "code",
   "outputs": [
    {
     "data": {
      "text/plain": "tensor([0.7311, 0.8808, 0.7311, 0.7311, 0.8808])"
     },
     "execution_count": 3,
     "metadata": {},
     "output_type": "execute_result"
    }
   ],
   "source": [
    "F.sigmoid(data1)"
   ],
   "metadata": {
    "collapsed": false,
    "ExecuteTime": {
     "end_time": "2024-03-14T01:30:58.118773Z",
     "start_time": "2024-03-14T01:30:58.076986Z"
    }
   },
   "id": "c5cb5c19bc3721e0",
   "execution_count": 3
  },
  {
   "cell_type": "code",
   "outputs": [
    {
     "data": {
      "text/plain": "tensor([[ 1.0987,  0.7799, -0.7224],\n        [ 0.5399, -0.8084, -0.7417]])"
     },
     "execution_count": 4,
     "metadata": {},
     "output_type": "execute_result"
    }
   ],
   "source": [
    "input= torch.randn(2,3)\n",
    "input"
   ],
   "metadata": {
    "collapsed": false,
    "ExecuteTime": {
     "end_time": "2024-03-14T01:37:52.560924Z",
     "start_time": "2024-03-14T01:37:52.544111Z"
    }
   },
   "id": "b19d1ecb4bd40b78",
   "execution_count": 4
  },
  {
   "cell_type": "code",
   "outputs": [
    {
     "name": "stderr",
     "output_type": "stream",
     "text": [
      "C:\\Users\\kdp\\AppData\\Local\\Temp\\ipykernel_17644\\3373759269.py:1: UserWarning: Implicit dimension choice for softmax has been deprecated. Change the call to include dim=X as an argument.\n",
      "  output= F.softmax(input)\n"
     ]
    },
    {
     "data": {
      "text/plain": "tensor([1., 1.])"
     },
     "execution_count": 7,
     "metadata": {},
     "output_type": "execute_result"
    }
   ],
   "source": [
    "output= F.softmax(input)\n",
    "output.sum(dim=1)"
   ],
   "metadata": {
    "collapsed": false,
    "ExecuteTime": {
     "end_time": "2024-03-14T01:39:44.166021Z",
     "start_time": "2024-03-14T01:39:44.148901Z"
    }
   },
   "id": "ab54d809257e5478",
   "execution_count": 7
  },
  {
   "cell_type": "code",
   "outputs": [
    {
     "data": {
      "text/plain": "torch.return_types.max(\nvalues=tensor([0.5294, 0.6505]),\nindices=tensor([0, 0]))"
     },
     "execution_count": 8,
     "metadata": {},
     "output_type": "execute_result"
    }
   ],
   "source": [
    "output.max(dim=1)"
   ],
   "metadata": {
    "collapsed": false,
    "ExecuteTime": {
     "end_time": "2024-03-14T01:41:01.656556Z",
     "start_time": "2024-03-14T01:41:01.639613Z"
    }
   },
   "id": "92d3cee4e7768516",
   "execution_count": 8
  },
  {
   "cell_type": "code",
   "outputs": [],
   "source": [],
   "metadata": {
    "collapsed": false
   },
   "id": "e9308a7f6c988c7a"
  }
 ],
 "metadata": {
  "kernelspec": {
   "display_name": "Python 3",
   "language": "python",
   "name": "python3"
  },
  "language_info": {
   "codemirror_mode": {
    "name": "ipython",
    "version": 2
   },
   "file_extension": ".py",
   "mimetype": "text/x-python",
   "name": "python",
   "nbconvert_exporter": "python",
   "pygments_lexer": "ipython2",
   "version": "2.7.6"
  }
 },
 "nbformat": 4,
 "nbformat_minor": 5
}
