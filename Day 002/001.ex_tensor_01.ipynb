{
 "cells": [
  {
   "cell_type": "markdown",
   "source": [
    "### Tensor 살펴보기\n",
    "- Pytorch에서 데이터를 저장하는 자료형\n",
    "- 모델 입력(input), 출력(output)데이터 형태"
   ],
   "metadata": {
    "collapsed": false
   },
   "id": "ba441978c7dd2a7e"
  },
  {
   "cell_type": "markdown",
   "source": [
    "1. 모듈 로딩\n"
   ],
   "metadata": {
    "collapsed": false
   },
   "id": "cbf7141a0c13fdfc"
  },
  {
   "cell_type": "code",
   "outputs": [],
   "source": [
    "import torch"
   ],
   "metadata": {
    "collapsed": false,
    "ExecuteTime": {
     "end_time": "2024-03-12T01:22:50.352508Z",
     "start_time": "2024-03-12T01:22:50.340051Z"
    }
   },
   "id": "fc7f1b7eb9a220f0",
   "execution_count": 25
  },
  {
   "cell_type": "markdown",
   "source": [
    "Tensor 속성 관련 함수\n"
   ],
   "metadata": {
    "collapsed": false
   },
   "id": "11df501261812c58"
  },
  {
   "cell_type": "code",
   "outputs": [],
   "source": [
    "#매개변수 : 텐서 인스턴스, 텐서 변수명\n",
    "def printTensor(tensor, name):\n",
    "    print(f'[Tensor {name}\\'s Attribute ]')\n",
    "    print(f' - tensor.shape : {tensor.shape}')\n",
    "    print(f' - tensor.ndim : {tensor.ndim}D')\n",
    "    print(f' - tensor.dtype : {tensor.dtype}')\n",
    "    print(f' - tensor.device : {tensor.device}')\n",
    "    print(f' - tensor.requires_grad : {tensor.requires_grad}')\n",
    "    print(f' - tensor.data \\n {tensor.data}')\n"
   ],
   "metadata": {
    "collapsed": false,
    "ExecuteTime": {
     "end_time": "2024-03-12T01:22:50.367659Z",
     "start_time": "2024-03-12T01:22:50.360481Z"
    }
   },
   "id": "98e09fc50ca85e70",
   "execution_count": 26
  },
  {
   "cell_type": "markdown",
   "source": [
    "2. Tensor 생성\n",
    "- 특정 데이터 타입의 텐서 생성\n",
    "  - 타입별 텐서 클래스 생성자 활용\n",
    "  - ex) IntTensor, FloatTensor, BoolTensor()"
   ],
   "metadata": {
    "collapsed": false
   },
   "id": "955603941a27af93"
  },
  {
   "cell_type": "code",
   "outputs": [
    {
     "name": "stdout",
     "output_type": "stream",
     "text": [
      "tensor([0, 0, 0, 0, 0, 0, 0, 0, 0, 0], dtype=torch.int32)\n"
     ]
    }
   ],
   "source": [
    "t1 = torch.IntTensor(10)\n",
    "t2 = torch.IntTensor([10,20])\n",
    "t3 = torch.BoolTensor([1,1,0,-1])\n",
    "t4 = torch.FloatTensor([10, 20])\n",
    "print(t1)"
   ],
   "metadata": {
    "collapsed": false,
    "ExecuteTime": {
     "end_time": "2024-03-12T01:22:50.399929Z",
     "start_time": "2024-03-12T01:22:50.381691Z"
    }
   },
   "id": "c372c6b6de4b1151",
   "execution_count": 27
  },
  {
   "cell_type": "code",
   "outputs": [
    {
     "name": "stdout",
     "output_type": "stream",
     "text": [
      "tensor([10, 20], dtype=torch.int32)\n"
     ]
    }
   ],
   "source": [
    "print(t2)"
   ],
   "metadata": {
    "collapsed": false,
    "ExecuteTime": {
     "end_time": "2024-03-12T01:22:50.416241Z",
     "start_time": "2024-03-12T01:22:50.402346Z"
    }
   },
   "id": "f82f59840633362e",
   "execution_count": 28
  },
  {
   "cell_type": "code",
   "outputs": [
    {
     "name": "stdout",
     "output_type": "stream",
     "text": [
      "tensor([ True,  True, False,  True])\n"
     ]
    }
   ],
   "source": [
    "print(t3)"
   ],
   "metadata": {
    "collapsed": false,
    "ExecuteTime": {
     "end_time": "2024-03-12T01:22:50.431160Z",
     "start_time": "2024-03-12T01:22:50.417242Z"
    }
   },
   "id": "23b6b0db4955ffc1",
   "execution_count": 29
  },
  {
   "cell_type": "code",
   "outputs": [
    {
     "name": "stdout",
     "output_type": "stream",
     "text": [
      "tensor([10., 20.])\n"
     ]
    }
   ],
   "source": [
    "print(t4)"
   ],
   "metadata": {
    "collapsed": false,
    "ExecuteTime": {
     "end_time": "2024-03-12T01:22:50.446902Z",
     "start_time": "2024-03-12T01:22:50.432292Z"
    }
   },
   "id": "a5024954dcc12893",
   "execution_count": 30
  },
  {
   "cell_type": "markdown",
   "source": [
    "- tensor 생성 2: 원하는 값으로 텐서 생성 : torch.tensor()"
   ],
   "metadata": {
    "collapsed": false
   },
   "id": "c1e86d0c0273d0df"
  },
  {
   "cell_type": "code",
   "outputs": [
    {
     "name": "stdout",
     "output_type": "stream",
     "text": [
      "[Tensor t1's Attribute ]\n",
      " - tensor.shape : torch.Size([])\n",
      " - tensor.ndim : 0D\n",
      " - tensor.dtype : torch.int64\n",
      " - tensor.device : cpu\n",
      " - tensor.requires_grad : False\n",
      " - tensor.data \n",
      " 10\n"
     ]
    }
   ],
   "source": [
    "t1 = torch.tensor(10) # scalar, int64\n",
    "printTensor(t1, 't1')"
   ],
   "metadata": {
    "collapsed": false,
    "ExecuteTime": {
     "end_time": "2024-03-12T01:22:50.462403Z",
     "start_time": "2024-03-12T01:22:50.449067Z"
    }
   },
   "id": "e4239ad41b79395a",
   "execution_count": 31
  },
  {
   "cell_type": "code",
   "outputs": [
    {
     "name": "stdout",
     "output_type": "stream",
     "text": [
      "[Tensor t1's Attribute ]\n",
      " - tensor.shape : torch.Size([])\n",
      " - tensor.ndim : 0D\n",
      " - tensor.dtype : torch.bool\n",
      " - tensor.device : cpu\n",
      " - tensor.requires_grad : False\n",
      " - tensor.data \n",
      " True\n"
     ]
    }
   ],
   "source": [
    "#dtype 매개변수 : 원하는 데이터타입 지정 가능\n",
    "t1 = torch.tensor(10.,dtype = torch.bool) # scalar, float32 -> Bool\n",
    "printTensor(t1,'t1')"
   ],
   "metadata": {
    "collapsed": false,
    "ExecuteTime": {
     "end_time": "2024-03-12T01:25:57.863046Z",
     "start_time": "2024-03-12T01:25:57.855563Z"
    }
   },
   "id": "c9a6f1fa68d3bd7",
   "execution_count": 35
  },
  {
   "cell_type": "code",
   "outputs": [],
   "source": [
    "t1 = torch.tensor([[1,2,3]],dtype= torch.int8) #2D data"
   ],
   "metadata": {
    "collapsed": false,
    "ExecuteTime": {
     "end_time": "2024-03-12T01:27:36.878927Z",
     "start_time": "2024-03-12T01:27:36.867963Z"
    }
   },
   "id": "b3dbe33b9a813eb0",
   "execution_count": 36
  },
  {
   "cell_type": "code",
   "outputs": [
    {
     "name": "stdout",
     "output_type": "stream",
     "text": [
      "[Tensor t1's Attribute ]\n",
      " - tensor.shape : torch.Size([1, 3])\n",
      " - tensor.ndim : 2D\n",
      " - tensor.dtype : torch.int8\n",
      " - tensor.device : cpu\n",
      " - tensor.requires_grad : False\n",
      " - tensor.data \n",
      " tensor([[1, 2, 3]], dtype=torch.int8)\n"
     ]
    }
   ],
   "source": [
    "printTensor(t1,'t1')"
   ],
   "metadata": {
    "collapsed": false,
    "ExecuteTime": {
     "end_time": "2024-03-12T01:27:46.479004Z",
     "start_time": "2024-03-12T01:27:46.460203Z"
    }
   },
   "id": "7876b40ec116cc09",
   "execution_count": 37
  },
  {
   "cell_type": "markdown",
   "source": [
    "- tensor 생성 3:  특정 값으로 채운 tensor = 0, 1 등의 값"
   ],
   "metadata": {
    "collapsed": false
   },
   "id": "c6bb866e5c0cb525"
  },
  {
   "cell_type": "code",
   "outputs": [],
   "source": [
    "#0으로 채우기\n",
    "t1 = torch.ones((5,5), dtype = torch.int8)"
   ],
   "metadata": {
    "collapsed": false,
    "ExecuteTime": {
     "end_time": "2024-03-12T01:31:38.271098Z",
     "start_time": "2024-03-12T01:31:38.260065Z"
    }
   },
   "id": "d4f959f086e4d10c",
   "execution_count": 43
  },
  {
   "cell_type": "code",
   "outputs": [
    {
     "name": "stdout",
     "output_type": "stream",
     "text": [
      "[Tensor t1's Attribute ]\n",
      " - tensor.shape : torch.Size([5, 5])\n",
      " - tensor.ndim : 2D\n",
      " - tensor.dtype : torch.int8\n",
      " - tensor.device : cpu\n",
      " - tensor.requires_grad : False\n",
      " - tensor.data \n",
      " tensor([[1, 1, 1, 1, 1],\n",
      "        [1, 1, 1, 1, 1],\n",
      "        [1, 1, 1, 1, 1],\n",
      "        [1, 1, 1, 1, 1],\n",
      "        [1, 1, 1, 1, 1]], dtype=torch.int8)\n"
     ]
    }
   ],
   "source": [
    "printTensor(t1,'t1')"
   ],
   "metadata": {
    "collapsed": false,
    "ExecuteTime": {
     "end_time": "2024-03-12T01:31:38.862923Z",
     "start_time": "2024-03-12T01:31:38.844903Z"
    }
   },
   "id": "38878b10d4326202",
   "execution_count": 44
  },
  {
   "cell_type": "code",
   "outputs": [],
   "source": [
    "#이미 존재하는 tensor와 동일한 shape로 잡고 값 채우기 : zerosl_like. ones_like\n",
    "\n",
    "img = torch.tensor([[2,3,4,5,6,7],[2,3,4,5,56,7]])"
   ],
   "metadata": {
    "collapsed": false,
    "ExecuteTime": {
     "end_time": "2024-03-12T01:34:25.732037Z",
     "start_time": "2024-03-12T01:34:25.715148Z"
    }
   },
   "id": "234d54f39071d03e",
   "execution_count": 46
  },
  {
   "cell_type": "code",
   "outputs": [
    {
     "name": "stdout",
     "output_type": "stream",
     "text": [
      "tensor([[ 2,  3,  4,  5,  6,  7],\n",
      "        [ 2,  3,  4,  5, 56,  7]])\n"
     ]
    }
   ],
   "source": [
    "zero_img = torch.zeros_like(img)\n",
    "print(img)"
   ],
   "metadata": {
    "collapsed": false,
    "ExecuteTime": {
     "end_time": "2024-03-12T01:34:54.856858Z",
     "start_time": "2024-03-12T01:34:54.838519Z"
    }
   },
   "id": "6f65dcf7a8d410d4",
   "execution_count": 47
  },
  {
   "cell_type": "code",
   "outputs": [
    {
     "name": "stdout",
     "output_type": "stream",
     "text": [
      "tensor([[ 2,  3,  4,  5,  6,  7],\n",
      "        [ 2,  3,  4,  5, 56,  7]])\n"
     ]
    }
   ],
   "source": [
    "one_img = torch.ones_like(img)\n",
    "print(img)"
   ],
   "metadata": {
    "collapsed": false,
    "ExecuteTime": {
     "end_time": "2024-03-12T01:35:32.769041Z",
     "start_time": "2024-03-12T01:35:32.752091Z"
    }
   },
   "id": "6252c5cb975b67b0",
   "execution_count": 48
  },
  {
   "cell_type": "code",
   "outputs": [
    {
     "name": "stdout",
     "output_type": "stream",
     "text": [
      "tensor([[7, 7, 7, 7, 7, 7],\n",
      "        [7, 7, 7, 7, 7, 7]])\n"
     ]
    }
   ],
   "source": [
    "full_img  = torch.full_like(img, 7)\n",
    "print(full_img)"
   ],
   "metadata": {
    "collapsed": false,
    "ExecuteTime": {
     "end_time": "2024-03-12T01:36:12.491798Z",
     "start_time": "2024-03-12T01:36:12.478344Z"
    }
   },
   "id": "7ed712d8eb87ab7c",
   "execution_count": 50
  },
  {
   "cell_type": "code",
   "outputs": [
    {
     "name": "stdout",
     "output_type": "stream",
     "text": [
      "tensor([[1., 0., 0., 0., 0.],\n",
      "        [0., 1., 0., 0., 0.],\n",
      "        [0., 0., 1., 0., 0.],\n",
      "        [0., 0., 0., 1., 0.],\n",
      "        [0., 0., 0., 0., 1.]])\n"
     ]
    }
   ],
   "source": [
    "#대각선 방향으로 1 채우기 : eye()]\n",
    "t1 = torch.eye(5)\n",
    "print(t1)"
   ],
   "metadata": {
    "collapsed": false,
    "ExecuteTime": {
     "end_time": "2024-03-12T01:37:53.885454Z",
     "start_time": "2024-03-12T01:37:53.870893Z"
    }
   },
   "id": "4991c5a6b42fab0d",
   "execution_count": 52
  },
  {
   "cell_type": "code",
   "outputs": [
    {
     "name": "stdout",
     "output_type": "stream",
     "text": [
      "tensor([[1., 0., 0.],\n",
      "        [0., 1., 0.],\n",
      "        [0., 0., 1.]])\n"
     ]
    },
    {
     "data": {
      "text/plain": "(None,)"
     },
     "execution_count": 54,
     "metadata": {},
     "output_type": "execute_result"
    }
   ],
   "source": [
    "#대각선 방향으로 1 채우기 : eye()]\n",
    "t1 = torch.eye(3)\n",
    "print(t1),"
   ],
   "metadata": {
    "collapsed": false,
    "ExecuteTime": {
     "end_time": "2024-03-12T01:38:31.369116Z",
     "start_time": "2024-03-12T01:38:31.358109Z"
    }
   },
   "id": "229feff72746ba65",
   "execution_count": 54
  },
  {
   "cell_type": "code",
   "outputs": [],
   "source": [
    "#ramdom\n",
    "torch.manual_seed(12)\n",
    "t5 = torch.rand(2,3)\n",
    "t6 = torch.randn(2,3)\n",
    "t7 = torch.randint(low = 1, high = 10, size=(2,3))"
   ],
   "metadata": {
    "collapsed": false,
    "ExecuteTime": {
     "end_time": "2024-03-12T01:40:08.800203Z",
     "start_time": "2024-03-12T01:40:08.784585Z"
    }
   },
   "id": "9757401503eb7914",
   "execution_count": 55
  },
  {
   "cell_type": "markdown",
   "source": [
    "- NDarray 객체 활용 -> Numpy 객체로 값을 채운 tensor : torch.from_numpy(), torch.as_tensor(), tensor()"
   ],
   "metadata": {
    "collapsed": false
   },
   "id": "ef9bbb8c39df4b7f"
  },
  {
   "cell_type": "code",
   "outputs": [],
   "source": [
    "import numpy as np\n",
    "\n",
    "arr = np.array([11,22,33])\n",
    "t1 = torch.from_numpy(arr)"
   ],
   "metadata": {
    "collapsed": false,
    "ExecuteTime": {
     "end_time": "2024-03-12T01:46:42.533410Z",
     "start_time": "2024-03-12T01:46:42.520961Z"
    }
   },
   "id": "b87bc7d059c2c2e5",
   "execution_count": 56
  },
  {
   "cell_type": "code",
   "outputs": [
    {
     "name": "stdout",
     "output_type": "stream",
     "text": [
      "tensor([11, 22, 33], dtype=torch.int32)\n"
     ]
    }
   ],
   "source": [
    "print(t1)"
   ],
   "metadata": {
    "collapsed": false,
    "ExecuteTime": {
     "end_time": "2024-03-12T01:46:47.445066Z",
     "start_time": "2024-03-12T01:46:47.433599Z"
    }
   },
   "id": "b054ae53a05e3459",
   "execution_count": 57
  },
  {
   "cell_type": "code",
   "outputs": [
    {
     "name": "stdout",
     "output_type": "stream",
     "text": [
      "tensor([11, 22, 33], dtype=torch.int32)\n"
     ]
    }
   ],
   "source": [
    "t2 = torch.as_tensor(arr)\n",
    "print(t2)"
   ],
   "metadata": {
    "collapsed": false,
    "ExecuteTime": {
     "end_time": "2024-03-12T01:47:05.051706Z",
     "start_time": "2024-03-12T01:47:05.044686Z"
    }
   },
   "id": "b9b3e66a34ff461e",
   "execution_count": 58
  },
  {
   "cell_type": "code",
   "outputs": [
    {
     "name": "stdout",
     "output_type": "stream",
     "text": [
      "tensor([11, 22, 33], dtype=torch.int32)\n"
     ]
    }
   ],
   "source": [
    "t3 =torch. tensor(arr)\n",
    "print(t3)"
   ],
   "metadata": {
    "collapsed": false,
    "ExecuteTime": {
     "end_time": "2024-03-12T01:47:31.133987Z",
     "start_time": "2024-03-12T01:47:31.117748Z"
    }
   },
   "id": "42357b297729d087",
   "execution_count": 60
  },
  {
   "cell_type": "code",
   "outputs": [
    {
     "name": "stdout",
     "output_type": "stream",
     "text": [
      "[100  22  33]\n",
      "tensor([100,  22,  33], dtype=torch.int32)\n",
      "tensor([100,  22,  33], dtype=torch.int32)\n",
      "tensor([11, 22, 33], dtype=torch.int32)\n"
     ]
    }
   ],
   "source": [
    "#ndarray 원소 변경\n",
    "arr[0]=100\n",
    "\n",
    "#from_numpy(), as_tensor() => 데이터 공유\n",
    "#tensor() => 복사본 생성\n",
    "print(arr, t1, t2, t3, sep='\\n')"
   ],
   "metadata": {
    "collapsed": false,
    "ExecuteTime": {
     "end_time": "2024-03-12T01:49:58.145Z",
     "start_time": "2024-03-12T01:49:58.123547Z"
    }
   },
   "id": "831a3b98f010185a",
   "execution_count": 62
  },
  {
   "cell_type": "code",
   "outputs": [],
   "source": [],
   "metadata": {
    "collapsed": false
   },
   "id": "a56904b6a4d73424"
  }
 ],
 "metadata": {
  "kernelspec": {
   "display_name": "Python 3",
   "language": "python",
   "name": "python3"
  },
  "language_info": {
   "codemirror_mode": {
    "name": "ipython",
    "version": 2
   },
   "file_extension": ".py",
   "mimetype": "text/x-python",
   "name": "python",
   "nbconvert_exporter": "python",
   "pygments_lexer": "ipython2",
   "version": "2.7.6"
  }
 },
 "nbformat": 4,
 "nbformat_minor": 5
}
