{
 "cells": [
  {
   "cell_type": "markdown",
   "source": [
    "###  텐서 연결 / 결합"
   ],
   "metadata": {
    "collapsed": false
   },
   "id": "c8c2fa145832a635"
  },
  {
   "cell_type": "code",
   "outputs": [],
   "source": [
    "#모듈 로딩\n",
    "import torch"
   ],
   "metadata": {
    "collapsed": false,
    "ExecuteTime": {
     "end_time": "2024-03-12T06:02:52.264590Z",
     "start_time": "2024-03-12T06:02:50.986685Z"
    }
   },
   "id": "d28d7636af973c55",
   "execution_count": 1
  },
  {
   "cell_type": "code",
   "outputs": [],
   "source": [
    "#텐서 데이터 생성\n",
    "torch.manual_seed(12)\n",
    "\n",
    "#임의의 0.<= ~ <1. 실수\n",
    "x = torch.rand(2, 10)\n",
    "\n",
    "#임의의 정수 low<= ~ <high\n",
    "y = torch.randint(0, 2,(10,))\n",
    "y2 = torch.randint(0, 2,(2,10))\n"
   ],
   "metadata": {
    "collapsed": false,
    "ExecuteTime": {
     "end_time": "2024-03-12T06:14:22.851962Z",
     "start_time": "2024-03-12T06:14:22.843987Z"
    }
   },
   "id": "17b14d0f52bbc",
   "execution_count": 24
  },
  {
   "cell_type": "code",
   "outputs": [
    {
     "name": "stdout",
     "output_type": "stream",
     "text": [
      "x = torch.Size([2, 10]),2D\n",
      "y2 = torch.Size([2, 10]),2D\n"
     ]
    }
   ],
   "source": [
    "print(f'x = {x.shape},{x.ndim}D')\n",
    "print(f'y2 = {y2.shape},{y2.ndim}D')\n"
   ],
   "metadata": {
    "collapsed": false,
    "ExecuteTime": {
     "end_time": "2024-03-12T06:14:23.771253Z",
     "start_time": "2024-03-12T06:14:23.755047Z"
    }
   },
   "id": "819a6f5f584acace",
   "execution_count": 25
  },
  {
   "cell_type": "code",
   "outputs": [],
   "source": [
    "# tensor 연결 : cat([tensor 1, tensor2, ...])\n",
    "#torch.cat([x, y], dim=1)\n",
    "#RuntimeError: Tensors must have same number of dimensions: got 2 and 1"
   ],
   "metadata": {
    "collapsed": false,
    "ExecuteTime": {
     "end_time": "2024-03-12T06:14:24.530975Z",
     "start_time": "2024-03-12T06:14:24.521008Z"
    }
   },
   "id": "a9a46bdb18f59b5a",
   "execution_count": 26
  },
  {
   "cell_type": "code",
   "outputs": [],
   "source": [
    "xy1 = torch.cat([x,y2], dim = 1)"
   ],
   "metadata": {
    "collapsed": false,
    "ExecuteTime": {
     "end_time": "2024-03-12T06:14:25.165319Z",
     "start_time": "2024-03-12T06:14:25.151177Z"
    }
   },
   "id": "7c80e1c2d2892293",
   "execution_count": 27
  },
  {
   "cell_type": "code",
   "outputs": [
    {
     "name": "stdout",
     "output_type": "stream",
     "text": [
      "x,y1=> torch.Size([2, 20]),2D\n"
     ]
    }
   ],
   "source": [
    "print(f'x,y1=> {xy1.shape},{xy1.ndim}D')"
   ],
   "metadata": {
    "collapsed": false,
    "ExecuteTime": {
     "end_time": "2024-03-12T06:14:26.507297Z",
     "start_time": "2024-03-12T06:14:26.503207Z"
    }
   },
   "id": "6e1f5a4d0360fcf2",
   "execution_count": 28
  },
  {
   "cell_type": "code",
   "outputs": [
    {
     "data": {
      "text/plain": "torch.return_types.max(\nvalues=tensor([1., 1.]),\nindices=tensor([10, 12]))"
     },
     "execution_count": 30,
     "metadata": {},
     "output_type": "execute_result"
    }
   ],
   "source": [
    "xy1.max(dim = 1)"
   ],
   "metadata": {
    "collapsed": false,
    "ExecuteTime": {
     "end_time": "2024-03-12T06:18:44.707477Z",
     "start_time": "2024-03-12T06:18:44.699398Z"
    }
   },
   "id": "718590ad9c0f85fe",
   "execution_count": 30
  },
  {
   "cell_type": "code",
   "outputs": [
    {
     "data": {
      "text/plain": "(tensor([1., 1.]), tensor([10, 12]))"
     },
     "execution_count": 33,
     "metadata": {},
     "output_type": "execute_result"
    }
   ],
   "source": [
    "# 행단위로 최대값 및 최대값의 인덱스\n",
    "max_value = xy1.max(dim=1)[0]\n",
    "max_index = xy1.max(dim=1)[1]\n",
    "\n",
    "max_value, max_index"
   ],
   "metadata": {
    "collapsed": false,
    "ExecuteTime": {
     "end_time": "2024-03-12T06:24:40.643753Z",
     "start_time": "2024-03-12T06:24:40.628445Z"
    }
   },
   "id": "f52206c7f67b4835",
   "execution_count": 33
  },
  {
   "cell_type": "code",
   "outputs": [
    {
     "data": {
      "text/plain": "(tensor([0.4657, 0.6948, 0.5830, 0.6318, 0.5559, 0.1272, 0.9790, 0.8443, 0.7312,\n         0.7224, 1.0000, 1.0000, 1.0000, 1.0000, 1.0000, 1.0000, 0.0000, 0.0000,\n         0.0000, 0.0000]),\n tensor([0, 1, 1, 1, 1, 0, 1, 1, 0, 0, 0, 0, 1, 0, 0, 1, 0, 0, 0, 0]))"
     },
     "execution_count": 35,
     "metadata": {},
     "output_type": "execute_result"
    }
   ],
   "source": [
    "# 열 단위로 최대값 및 최대값의 인덳\n",
    "max_value = xy1.max(dim=0)[0]\n",
    "max_index = xy1.max(dim = 0)[1]\n",
    "\n",
    "max_value, max_index\n"
   ],
   "metadata": {
    "collapsed": false,
    "ExecuteTime": {
     "end_time": "2024-03-12T06:25:05.322412Z",
     "start_time": "2024-03-12T06:25:05.312895Z"
    }
   },
   "id": "b2372004ddf2e656",
   "execution_count": 35
  },
  {
   "cell_type": "code",
   "outputs": [
    {
     "data": {
      "text/plain": "(A    11\n B    22\n C    33\n dtype: int64,\n 0    30\n 1    33\n dtype: int64)"
     },
     "execution_count": 38,
     "metadata": {},
     "output_type": "execute_result"
    }
   ],
   "source": [
    "import pandas as pd\n",
    "data = pd.DataFrame({'A':[10,11],'B':[20,22],'C':[30,33]})\n",
    "\n",
    "data.max(), data.max(axis = 1)"
   ],
   "metadata": {
    "collapsed": false,
    "ExecuteTime": {
     "end_time": "2024-03-12T06:29:03.018460Z",
     "start_time": "2024-03-12T06:29:03.008493Z"
    }
   },
   "id": "a7dc560ac5fb67d9",
   "execution_count": 38
  },
  {
   "cell_type": "markdown",
   "source": [
    "###Tensor 차원 . 형태 변경"
   ],
   "metadata": {
    "collapsed": false
   },
   "id": "d6f1e2362af80b16"
  },
  {
   "cell_type": "code",
   "outputs": [
    {
     "name": "stdout",
     "output_type": "stream",
     "text": [
      "torch.Size([1, 2, 3]) 3\n"
     ]
    }
   ],
   "source": [
    "t1 = torch.tensor([[[1,2,3],[11,22,33]]])\n",
    "\n",
    "print(t1.shape, t1.ndim)"
   ],
   "metadata": {
    "collapsed": false,
    "ExecuteTime": {
     "end_time": "2024-03-12T06:36:24.742264Z",
     "start_time": "2024-03-12T06:36:24.725474Z"
    }
   },
   "id": "a7c33bf89c0ccb29",
   "execution_count": 39
  },
  {
   "cell_type": "code",
   "outputs": [
    {
     "name": "stdout",
     "output_type": "stream",
     "text": [
      "t11 = torch.Size([3, 2, 1]),3D\n"
     ]
    }
   ],
   "source": [
    "#2개의 차원을 변경하는 메서드\n",
    "t11= t1.transpose(0,2)\n",
    "print(f't11 = {t11.shape},{t11.ndim}D')"
   ],
   "metadata": {
    "collapsed": false,
    "ExecuteTime": {
     "end_time": "2024-03-12T06:41:08.232227Z",
     "start_time": "2024-03-12T06:41:08.219141Z"
    }
   },
   "id": "c39d5466ba337d3b",
   "execution_count": 40
  },
  {
   "cell_type": "code",
   "outputs": [
    {
     "name": "stdout",
     "output_type": "stream",
     "text": [
      "t22 = torch.Size([2, 3, 1]),3D\n"
     ]
    }
   ],
   "source": [
    "#모든 차원을 변경하는 메서드\n",
    "\n",
    "t22 = t1.permute(1,2,0)\n",
    "print(f't22 = {t22.shape},{t22.ndim}D')"
   ],
   "metadata": {
    "collapsed": false,
    "ExecuteTime": {
     "end_time": "2024-03-12T06:41:55.527293Z",
     "start_time": "2024-03-12T06:41:55.517157Z"
    }
   },
   "id": "bde817bbc739940f",
   "execution_count": 42
  },
  {
   "cell_type": "code",
   "outputs": [
    {
     "name": "stdout",
     "output_type": "stream",
     "text": [
      "2970893158528,2970893158528,2970893158528\n"
     ]
    }
   ],
   "source": [
    "print(f'{t1.data_ptr()},{t22.data_ptr()},{t11.data_ptr()}')"
   ],
   "metadata": {
    "collapsed": false,
    "ExecuteTime": {
     "end_time": "2024-03-12T06:43:07.581841Z",
     "start_time": "2024-03-12T06:43:07.567068Z"
    }
   },
   "id": "efd6af4eaaa515f0",
   "execution_count": 43
  },
  {
   "cell_type": "code",
   "outputs": [
    {
     "data": {
      "text/plain": "tensor([[1., 0.],\n        [0., 1.]])"
     },
     "execution_count": 44,
     "metadata": {},
     "output_type": "execute_result"
    }
   ],
   "source": [
    "torch.eye(2)"
   ],
   "metadata": {
    "collapsed": false,
    "ExecuteTime": {
     "end_time": "2024-03-12T07:34:50.578467Z",
     "start_time": "2024-03-12T07:34:50.543937Z"
    }
   },
   "id": "1a788335c3d8a4d5",
   "execution_count": 44
  },
  {
   "cell_type": "code",
   "outputs": [
    {
     "data": {
      "text/plain": "tensor([[1., 0., 0.]])"
     },
     "execution_count": 45,
     "metadata": {},
     "output_type": "execute_result"
    }
   ],
   "source": [
    "torch.eye(1,3)"
   ],
   "metadata": {
    "collapsed": false,
    "ExecuteTime": {
     "end_time": "2024-03-12T07:34:55.940328Z",
     "start_time": "2024-03-12T07:34:55.922355Z"
    }
   },
   "id": "85537edbb7b4d86",
   "execution_count": 45
  },
  {
   "cell_type": "code",
   "outputs": [],
   "source": [],
   "metadata": {
    "collapsed": false
   },
   "id": "7956000da627342"
  }
 ],
 "metadata": {
  "kernelspec": {
   "display_name": "Python 3",
   "language": "python",
   "name": "python3"
  },
  "language_info": {
   "codemirror_mode": {
    "name": "ipython",
    "version": 2
   },
   "file_extension": ".py",
   "mimetype": "text/x-python",
   "name": "python",
   "nbconvert_exporter": "python",
   "pygments_lexer": "ipython2",
   "version": "2.7.6"
  }
 },
 "nbformat": 4,
 "nbformat_minor": 5
}
