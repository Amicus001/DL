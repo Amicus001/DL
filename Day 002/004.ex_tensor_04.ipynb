{
 "cells": [
  {
   "cell_type": "markdown",
   "source": [
    "### Tensor Shape 변경\n",
    "\n",
    "- reshape(), view() : 원소 개수 유지됨, 기존 텐서 공유\n"
   ],
   "metadata": {
    "collapsed": false
   },
   "id": "280311558e374594"
  },
  {
   "cell_type": "code",
   "outputs": [],
   "source": [
    "#모듈 로딩\n",
    "import torch"
   ],
   "metadata": {
    "collapsed": false,
    "ExecuteTime": {
     "end_time": "2024-03-12T04:30:21.625584Z",
     "start_time": "2024-03-12T04:30:20.362074Z"
    }
   },
   "id": "431ab97238da6599",
   "execution_count": 1
  },
  {
   "cell_type": "code",
   "outputs": [
    {
     "name": "stdout",
     "output_type": "stream",
     "text": [
      "torch.Size([2, 3]) 2\n"
     ]
    }
   ],
   "source": [
    "# 텐서 데이터 생성\n",
    "t1 = torch.tensor([[1,2,3],[4,5,6]])\n",
    "print(t1.shape,t1.ndim)"
   ],
   "metadata": {
    "collapsed": false,
    "ExecuteTime": {
     "end_time": "2024-03-12T04:31:30.023707Z",
     "start_time": "2024-03-12T04:31:30.004399Z"
    }
   },
   "id": "25e8266922cd9966",
   "execution_count": 2
  },
  {
   "cell_type": "code",
   "outputs": [
    {
     "data": {
      "text/plain": "tensor([[1, 2],\n        [3, 4],\n        [5, 6]])"
     },
     "execution_count": 3,
     "metadata": {},
     "output_type": "execute_result"
    }
   ],
   "source": [
    "#[2,3]==>[3,2] 형 변경 : 원소 개수 동일(6)\n",
    "\n",
    "t1.view(3,2)"
   ],
   "metadata": {
    "collapsed": false,
    "ExecuteTime": {
     "end_time": "2024-03-12T04:32:36.542770Z",
     "start_time": "2024-03-12T04:32:36.524102Z"
    }
   },
   "id": "5728b3d7982420be",
   "execution_count": 3
  },
  {
   "cell_type": "code",
   "outputs": [
    {
     "data": {
      "text/plain": "tensor([[1],\n        [2],\n        [3],\n        [4],\n        [5],\n        [6]])"
     },
     "execution_count": 7,
     "metadata": {},
     "output_type": "execute_result"
    }
   ],
   "source": [
    "# [2 * 3] ==> [6 * 1]\n",
    "# -1 : 원소 수를 알아서 할당\n",
    "t1.view(6,1)\n",
    "t1.view(-1,1)"
   ],
   "metadata": {
    "collapsed": false,
    "ExecuteTime": {
     "end_time": "2024-03-12T04:40:20.214205Z",
     "start_time": "2024-03-12T04:40:20.193724Z"
    }
   },
   "id": "3c1facca7336ce1c",
   "execution_count": 7
  },
  {
   "cell_type": "code",
   "outputs": [
    {
     "data": {
      "text/plain": "tensor([[1],\n        [2],\n        [3],\n        [4],\n        [5],\n        [6]])"
     },
     "execution_count": 8,
     "metadata": {},
     "output_type": "execute_result"
    }
   ],
   "source": [
    "# tensor.reshape()\n",
    "\n",
    "t1.reshape(6,1)"
   ],
   "metadata": {
    "collapsed": false,
    "ExecuteTime": {
     "end_time": "2024-03-12T04:40:55.775210Z",
     "start_time": "2024-03-12T04:40:55.759243Z"
    }
   },
   "id": "c91e16db24096d2",
   "execution_count": 8
  },
  {
   "cell_type": "code",
   "outputs": [],
   "source": [
    "# 원소 수 유지되어야 함\n",
    "#t1.reshape(-1,7)\n",
    "#runtimeError"
   ],
   "metadata": {
    "collapsed": false,
    "ExecuteTime": {
     "end_time": "2024-03-12T04:43:22.735835Z",
     "start_time": "2024-03-12T04:43:22.719850Z"
    }
   },
   "id": "c7443961d0cc9273",
   "execution_count": 9
  },
  {
   "cell_type": "markdown",
   "source": [
    "- 전치 : 열 <-> 행 변경"
   ],
   "metadata": {
    "collapsed": false
   },
   "id": "5a6771aff1805b9f"
  },
  {
   "cell_type": "code",
   "outputs": [
    {
     "name": "stdout",
     "output_type": "stream",
     "text": [
      "torch.Size([2, 3])\n",
      "torch.Size([3, 2]) False\n"
     ]
    }
   ],
   "source": [
    "print(t1.shape)\n",
    "t2 = t1.T\n",
    "print(t2.shape, t2.is_contiguous())"
   ],
   "metadata": {
    "collapsed": false,
    "ExecuteTime": {
     "end_time": "2024-03-12T04:48:06.397391Z",
     "start_time": "2024-03-12T04:48:06.391911Z"
    }
   },
   "id": "425ba5b68e965bc2",
   "execution_count": 17
  },
  {
   "cell_type": "code",
   "outputs": [
    {
     "name": "stdout",
     "output_type": "stream",
     "text": [
      "tensor([[1, 4, 2, 5, 3, 6]]) True\n"
     ]
    }
   ],
   "source": [
    "#RuntimeError: view size is not compatible with input tensor's size and stride\n",
    "#t2.view(-1,6)\n",
    "\n",
    "t3 = t2.reshape(-1,6)\n",
    "print(t3,t3.is_contiguous())"
   ],
   "metadata": {
    "collapsed": false,
    "ExecuteTime": {
     "end_time": "2024-03-12T04:48:07.113514Z",
     "start_time": "2024-03-12T04:48:07.095550Z"
    }
   },
   "id": "a8ad6cf0428a1414",
   "execution_count": 18
  },
  {
   "cell_type": "markdown",
   "source": [
    "### 텐서 데이터의 메모리 저장 정보 : 메타데이터\n",
    "- 현재 저장형태, 검색 방향 정보, 시작 정보"
   ],
   "metadata": {
    "collapsed": false
   },
   "id": "53583bc74a8ea817"
  },
  {
   "cell_type": "code",
   "outputs": [
    {
     "name": "stdout",
     "output_type": "stream",
     "text": [
      "torch.Size([2, 3]) 2\n",
      "t1.storage():   1\n",
      " 2\n",
      " 3\n",
      " 4\n",
      " 5\n",
      " 6\n",
      "[torch.storage.TypedStorage(dtype=torch.int64, device=cpu) of size 6]\n",
      "t1. storage_offset():  0\n",
      "t1. stride():  (3, 1)\n",
      "t1. is_contiguous():  True\n"
     ]
    }
   ],
   "source": [
    "t1 = torch.tensor([[1,2,3],[4,5,6]])\n",
    "print(t1.shape,t1.ndim)\n",
    "print('t1.storage(): ' ,t1.storage())\n",
    "print('t1. storage_offset(): ',t1.storage_offset())\n",
    "print('t1. stride(): ',t1.stride())\n",
    "print('t1. is_contiguous(): ',t1.is_contiguous())"
   ],
   "metadata": {
    "collapsed": false,
    "ExecuteTime": {
     "end_time": "2024-03-12T04:59:51.919517Z",
     "start_time": "2024-03-12T04:59:51.903179Z"
    }
   },
   "id": "c1e6cb75b7407663",
   "execution_count": 21
  },
  {
   "cell_type": "code",
   "outputs": [],
   "source": [
    "t2 = t1.view(-1,2)"
   ],
   "metadata": {
    "collapsed": false,
    "ExecuteTime": {
     "end_time": "2024-03-12T05:00:07.412464Z",
     "start_time": "2024-03-12T05:00:07.394341Z"
    }
   },
   "id": "ee79f8cec031df17",
   "execution_count": 22
  },
  {
   "cell_type": "code",
   "outputs": [
    {
     "name": "stdout",
     "output_type": "stream",
     "text": [
      "torch.Size([3, 2]) 2\n",
      "t2.storage():   1\n",
      " 2\n",
      " 3\n",
      " 4\n",
      " 5\n",
      " 6\n",
      "[torch.storage.TypedStorage(dtype=torch.int64, device=cpu) of size 6]\n",
      "t2. storage_offset():  0\n",
      "t2. stride():  (2, 1)\n",
      "t2. is_contiguous():  True\n"
     ]
    }
   ],
   "source": [
    "print(t2.shape,t2.ndim)\n",
    "print('t2.storage(): ' ,t2.storage())\n",
    "print('t2. storage_offset(): ',t2.storage_offset())\n",
    "print('t2. stride(): ',t2.stride())\n",
    "print('t2. is_contiguous(): ',t2.is_contiguous())"
   ],
   "metadata": {
    "collapsed": false,
    "ExecuteTime": {
     "end_time": "2024-03-12T05:00:36.360076Z",
     "start_time": "2024-03-12T05:00:36.340143Z"
    }
   },
   "id": "6e278abf9a3ad7b5",
   "execution_count": 23
  },
  {
   "cell_type": "markdown",
   "source": [
    "### 차원 제거 / 추가\n",
    "- tensor.squeeze() : 텐서에서 차원이 1인 것 제거\n",
    "- tensor.unsqueeze(dim): 텐서에서 차원이 1인 것 추가"
   ],
   "metadata": {
    "collapsed": false
   },
   "id": "14ad177650008cf5"
  },
  {
   "cell_type": "code",
   "outputs": [],
   "source": [
    "t1 = torch.tensor([[1,2],[3,4]])\n",
    "t2 = torch.tensor([[1,2,3,4]])\n",
    "t3 = torch.tensor([[[1,2,3,4]]])\n"
   ],
   "metadata": {
    "collapsed": false,
    "ExecuteTime": {
     "end_time": "2024-03-12T05:42:20.468498Z",
     "start_time": "2024-03-12T05:42:20.462939Z"
    }
   },
   "id": "afdfd942fbcf002d",
   "execution_count": 30
  },
  {
   "cell_type": "code",
   "outputs": [
    {
     "name": "stdout",
     "output_type": "stream",
     "text": [
      "t1 = torch.Size([2, 2]),2D\n",
      "t2 = torch.Size([1, 4]),2D\n",
      "t3 = torch.Size([1, 1, 4]),3D\n"
     ]
    }
   ],
   "source": [
    "print(f't1 = {t1.shape},{t1.ndim}D')\n",
    "print(f't2 = {t2.shape},{t2.ndim}D')\n",
    "print(f't3 = {t3.shape},{t3.ndim}D')"
   ],
   "metadata": {
    "collapsed": false,
    "ExecuteTime": {
     "end_time": "2024-03-12T05:42:20.948910Z",
     "start_time": "2024-03-12T05:42:20.935536Z"
    }
   },
   "id": "2de8296a5f9fe30e",
   "execution_count": 31
  },
  {
   "cell_type": "code",
   "outputs": [
    {
     "name": "stdout",
     "output_type": "stream",
     "text": [
      "t1 차원 축소 = torch.Size([2, 2]),2D\n",
      "t2 차원 축소= torch.Size([4]),1D\n",
      "t3 차원 축소= torch.Size([4]),1D\n"
     ]
    }
   ],
   "source": [
    "t11 = t1.squeeze()\n",
    "t22 = t2.squeeze()\n",
    "t33 = t3.squeeze()\n",
    "print(f't1 차원 축소 = {t11.shape},{t11.ndim}D')\n",
    "print(f't2 차원 축소= {t22.shape},{t22.ndim}D')\n",
    "print(f't3 차원 축소= {t33.shape},{t33.ndim}D')"
   ],
   "metadata": {
    "collapsed": false,
    "ExecuteTime": {
     "end_time": "2024-03-12T05:42:45.439073Z",
     "start_time": "2024-03-12T05:42:45.419684Z"
    }
   },
   "id": "acd41103d5109d48",
   "execution_count": 32
  },
  {
   "cell_type": "markdown",
   "source": [
    "## 원소 / 요소 수 변경 없이 1차원 증가 시키기 : unsqueeze(dim)"
   ],
   "metadata": {
    "collapsed": false
   },
   "id": "a114039df5ebd738"
  },
  {
   "cell_type": "code",
   "outputs": [
    {
     "name": "stdout",
     "output_type": "stream",
     "text": [
      "t1정보 torch.Size([2, 2]) 2 D 3219270992256\n"
     ]
    }
   ],
   "source": [
    "print('t1정보', t1.shape,t1.ndim,'D',t1.data_ptr())"
   ],
   "metadata": {
    "collapsed": false,
    "ExecuteTime": {
     "end_time": "2024-03-12T05:56:13.020546Z",
     "start_time": "2024-03-12T05:56:13.005815Z"
    }
   },
   "id": "bd167d43155d8479",
   "execution_count": 34
  },
  {
   "cell_type": "code",
   "outputs": [
    {
     "name": "stdout",
     "output_type": "stream",
     "text": [
      "t1 차원추가 : torch.Size([1, 2, 2]), 3D, 3219270992256, (4, 2, 1)\n",
      "t1 차원추가 : torch.Size([2, 2, 1]), 3D, 3219270992256, (2, 1, 1)\n"
     ]
    }
   ],
   "source": [
    "t11 = t1.unsqueeze(dim=0)\n",
    "t22 = t1.unsqueeze(dim=-1)\n",
    "\n",
    "print(f't1 차원추가 : {t11.shape}, {t11.ndim}D, {t11.data_ptr()}, {t11.stride()}')\n",
    "print(f't1 차원추가 : {t22.shape}, {t22.ndim}D, {t22.data_ptr()}, {t22.stride()}')"
   ],
   "metadata": {
    "collapsed": false,
    "ExecuteTime": {
     "end_time": "2024-03-12T05:58:34.773745Z",
     "start_time": "2024-03-12T05:58:34.753714Z"
    }
   },
   "id": "4ae25b87744e8e19",
   "execution_count": 38
  },
  {
   "cell_type": "code",
   "outputs": [],
   "source": [],
   "metadata": {
    "collapsed": false
   },
   "id": "329886a61d8fb9f"
  }
 ],
 "metadata": {
  "kernelspec": {
   "display_name": "Python 3",
   "language": "python",
   "name": "python3"
  },
  "language_info": {
   "codemirror_mode": {
    "name": "ipython",
    "version": 2
   },
   "file_extension": ".py",
   "mimetype": "text/x-python",
   "name": "python",
   "nbconvert_exporter": "python",
   "pygments_lexer": "ipython2",
   "version": "2.7.6"
  }
 },
 "nbformat": 4,
 "nbformat_minor": 5
}
