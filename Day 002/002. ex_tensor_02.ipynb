{
 "cells": [
  {
   "cell_type": "markdown",
   "source": [
    "### Tensor 원소 / 요소 접근\n",
    "- 인덱싱 / 슬라이싱"
   ],
   "metadata": {
    "collapsed": false
   },
   "id": "c231d7c72b1552e3"
  },
  {
   "cell_type": "code",
   "outputs": [],
   "source": [
    "# 모듈 로딩\n",
    "import torch"
   ],
   "metadata": {
    "collapsed": false,
    "ExecuteTime": {
     "end_time": "2024-03-12T02:02:32.370284Z",
     "start_time": "2024-03-12T02:02:31.071352Z"
    }
   },
   "id": "2e650160fd0d0966",
   "execution_count": 1
  },
  {
   "cell_type": "code",
   "outputs": [
    {
     "name": "stderr",
     "output_type": "stream",
     "text": [
      "C:\\Users\\kdp\\AppData\\Local\\Temp\\ipykernel_1452\\1856089716.py:2: DeprecationWarning: an integer is required (got type float).  Implicit conversion to integers using __int__ is deprecated, and may be removed in a future version of Python.\n",
      "  points = torch.tensor([[4.,2.], [5., 3.],[6.,4]], dtype= torch.int16)\n"
     ]
    },
    {
     "data": {
      "text/plain": "tensor([[4, 2],\n        [5, 3],\n        [6, 4]], dtype=torch.int16)"
     },
     "execution_count": 2,
     "metadata": {},
     "output_type": "execute_result"
    }
   ],
   "source": [
    "# 텐서 생성\n",
    "points = torch.tensor([[4.,2.], [5., 3.],[6.,4]], dtype= torch.int16)\n",
    "points"
   ],
   "metadata": {
    "collapsed": false,
    "ExecuteTime": {
     "end_time": "2024-03-12T02:03:54.198348Z",
     "start_time": "2024-03-12T02:03:54.185389Z"
    }
   },
   "id": "48a69b36755557d8",
   "execution_count": 2
  },
  {
   "cell_type": "code",
   "outputs": [
    {
     "name": "stdout",
     "output_type": "stream",
     "text": [
      "tensor(3, dtype=torch.int16)\n",
      "tensor(4, dtype=torch.int16)\n"
     ]
    }
   ],
   "source": [
    "# 텐서 원소 1개 접근\n",
    "# data [3] extract\n",
    "# 마지막 [4] extract\n",
    "print(points[1,1])\n",
    "\n",
    "print(points[-1, -1])"
   ],
   "metadata": {
    "collapsed": false,
    "ExecuteTime": {
     "end_time": "2024-03-12T02:06:50.907994Z",
     "start_time": "2024-03-12T02:06:50.889056Z"
    }
   },
   "id": "85a7d714acc28604",
   "execution_count": 7
  },
  {
   "cell_type": "code",
   "outputs": [
    {
     "name": "stdout",
     "output_type": "stream",
     "text": [
      "tensor([[5, 3],\n",
      "        [6, 4]], dtype=torch.int16)\n"
     ]
    }
   ],
   "source": [
    "#1번 행부터 나머지 모든 행 추출하기\n",
    "print(points[1:])"
   ],
   "metadata": {
    "collapsed": false,
    "ExecuteTime": {
     "end_time": "2024-03-12T02:04:59.489484Z",
     "start_time": "2024-03-12T02:04:59.477440Z"
    }
   },
   "id": "f5e754c0925906d1",
   "execution_count": 4
  },
  {
   "cell_type": "markdown",
   "source": [
    "-BROADCASTING"
   ],
   "metadata": {
    "collapsed": false
   },
   "id": "396a3f6ca803de9e"
  },
  {
   "cell_type": "code",
   "outputs": [
    {
     "name": "stdout",
     "output_type": "stream",
     "text": [
      "m1.shape = torch.Size([1, 2]), m2.shape = torch.Size([1, 2])\n"
     ]
    },
    {
     "data": {
      "text/plain": "tensor([[4., 6.]])"
     },
     "execution_count": 17,
     "metadata": {},
     "output_type": "execute_result"
    }
   ],
   "source": [
    "m1 = torch.FloatTensor([[1,2]])\n",
    "m2 = torch.FloatTensor([[3,4]])\n",
    "print(f'm1.shape = {m1.shape}, m2.shape = {m2.shape}')\n",
    "m3 = m1 + m2\n",
    "m3"
   ],
   "metadata": {
    "collapsed": false,
    "ExecuteTime": {
     "end_time": "2024-03-12T07:44:50.134373Z",
     "start_time": "2024-03-12T07:44:50.125773Z"
    }
   },
   "id": "3fa6639a45797c4d",
   "execution_count": 17
  },
  {
   "cell_type": "code",
   "outputs": [
    {
     "name": "stdout",
     "output_type": "stream",
     "text": [
      "m3.shape=>torch.Size([1, 2])\n",
      "m3=>\n",
      "tensor([[4., 6.]])\n"
     ]
    }
   ],
   "source": [
    "print(f'm3.shape=>{m3.shape}\\nm3=>\\n{m3}')"
   ],
   "metadata": {
    "collapsed": false,
    "ExecuteTime": {
     "end_time": "2024-03-12T07:45:21.328905Z",
     "start_time": "2024-03-12T07:45:21.318808Z"
    }
   },
   "id": "1353a53cf67829b2",
   "execution_count": 18
  },
  {
   "cell_type": "code",
   "outputs": [
    {
     "name": "stdout",
     "output_type": "stream",
     "text": [
      "m1.shape = torch.Size([1, 2]), m2.shape = torch.Size([2, 1])\n"
     ]
    }
   ],
   "source": [
    "m1 = torch.FloatTensor([[1,2]])\n",
    "m2 = torch.FloatTensor([[3],[4]])\n",
    "\n",
    "print(f'm1.shape = {m1.shape}, m2.shape = {m2.shape}')"
   ],
   "metadata": {
    "collapsed": false,
    "ExecuteTime": {
     "end_time": "2024-03-12T02:23:37.202126Z",
     "start_time": "2024-03-12T02:23:37.186756Z"
    }
   },
   "id": "3134366faa91f4fb",
   "execution_count": 12
  },
  {
   "cell_type": "code",
   "outputs": [
    {
     "name": "stdout",
     "output_type": "stream",
     "text": [
      "m3.shape=>torch.Size([2, 2])\n",
      "m3=>tensor([[3., 6.],\n",
      "        [4., 8.]])\n"
     ]
    }
   ],
   "source": [
    "# 곱셈\n",
    "m3 = m1 * m2\n",
    "print(f'm3.shape=>{m3.shape}\\nm3=>{m3}')"
   ],
   "metadata": {
    "collapsed": false,
    "ExecuteTime": {
     "end_time": "2024-03-12T02:26:52.861980Z",
     "start_time": "2024-03-12T02:26:52.851977Z"
    }
   },
   "id": "f185b83afb7a200d",
   "execution_count": 13
  },
  {
   "cell_type": "code",
   "outputs": [
    {
     "name": "stdout",
     "output_type": "stream",
     "text": [
      "m4.shape=>torch.Size([2, 2])\n",
      "m4=>tensor([[3., 6.],\n",
      "        [4., 8.]])\n"
     ]
    }
   ],
   "source": [
    "m4 = m1.mul(m2)\n",
    "print(f'm4.shape=>{m4.shape}\\nm4=>{m4}')"
   ],
   "metadata": {
    "collapsed": false,
    "ExecuteTime": {
     "end_time": "2024-03-12T02:27:25.981831Z",
     "start_time": "2024-03-12T02:27:25.973858Z"
    }
   },
   "id": "14a446d0e0aee33d",
   "execution_count": 14
  },
  {
   "cell_type": "code",
   "outputs": [
    {
     "data": {
      "text/plain": "(tensor([[4., 5.],\n         [5., 6.]]),\n tensor([[-2., -1.],\n         [-3., -2.]]),\n tensor([[3., 6.],\n         [4., 8.]]),\n tensor([[0.3333, 0.6667],\n         [0.2500, 0.5000]]))"
     },
     "execution_count": 15,
     "metadata": {},
     "output_type": "execute_result"
    }
   ],
   "source": [
    "# 원소 단위 연산 수행 메서드\n",
    "m1.add(m2), m1.sub(m2), m1.mul(m2), m1.div(m2)"
   ],
   "metadata": {
    "collapsed": false,
    "ExecuteTime": {
     "end_time": "2024-03-12T02:28:06.504006Z",
     "start_time": "2024-03-12T02:28:06.492437Z"
    }
   },
   "id": "8461f426494a1062",
   "execution_count": 15
  },
  {
   "cell_type": "code",
   "outputs": [
    {
     "name": "stdout",
     "output_type": "stream",
     "text": [
      "tensor([[4., 5.]]) torch.Size([1, 2])\n"
     ]
    }
   ],
   "source": [
    "m1 = torch.FloatTensor([[1,2]])\n",
    "m2 = torch.FloatTensor([3])\n",
    "m3 = m1+m2\n",
    "\n",
    "print(m3,m3.shape)"
   ],
   "metadata": {
    "collapsed": false,
    "ExecuteTime": {
     "end_time": "2024-03-12T07:46:39.198799Z",
     "start_time": "2024-03-12T07:46:39.177448Z"
    }
   },
   "id": "cf83db38b32fcc2c",
   "execution_count": 19
  },
  {
   "cell_type": "code",
   "outputs": [
    {
     "name": "stdout",
     "output_type": "stream",
     "text": [
      "tensor([[4., 5.],\n",
      "        [5., 6.]]) torch.Size([2, 2])\n"
     ]
    }
   ],
   "source": [
    "m1 = torch.FloatTensor([[1,2]])\n",
    "m2 = torch.FloatTensor([[3],[4]])\n",
    "m3 = m1+m2\n",
    "\n",
    "print(m3,m3.shape)"
   ],
   "metadata": {
    "collapsed": false,
    "ExecuteTime": {
     "end_time": "2024-03-12T07:49:14.989178Z",
     "start_time": "2024-03-12T07:49:14.973348Z"
    }
   },
   "id": "10ee1a9bc7075171",
   "execution_count": 20
  },
  {
   "cell_type": "code",
   "outputs": [
    {
     "name": "stdout",
     "output_type": "stream",
     "text": [
      "shape of Matrix 1: torch.Size([2, 2])\n",
      "shape of Matrix 2: torch.Size([2, 1])\n",
      "tensor([[1., 2.],\n",
      "        [6., 8.]])\n",
      "tensor([[1., 2.],\n",
      "        [6., 8.]])\n"
     ]
    }
   ],
   "source": [
    "m1 = torch.FloatTensor([[1,2],[3,4]])\n",
    "m2 = torch.FloatTensor([[1],[2]])\n",
    "\n",
    "print(f'shape of Matrix 1: {m1.shape}')\n",
    "print(f'shape of Matrix 2: {m2.shape}')\n",
    "\n",
    "print(m1 * m2)\n",
    "print(m1.mul(m2))"
   ],
   "metadata": {
    "collapsed": false,
    "ExecuteTime": {
     "end_time": "2024-03-12T07:52:28.251162Z",
     "start_time": "2024-03-12T07:52:28.242581Z"
    }
   },
   "id": "9000ffe5f3c37212",
   "execution_count": 21
  },
  {
   "cell_type": "code",
   "outputs": [],
   "source": [],
   "metadata": {
    "collapsed": false
   },
   "id": "979462e1f79f5605"
  }
 ],
 "metadata": {
  "kernelspec": {
   "display_name": "Python 3",
   "language": "python",
   "name": "python3"
  },
  "language_info": {
   "codemirror_mode": {
    "name": "ipython",
    "version": 2
   },
   "file_extension": ".py",
   "mimetype": "text/x-python",
   "name": "python",
   "nbconvert_exporter": "python",
   "pygments_lexer": "ipython2",
   "version": "2.7.6"
  }
 },
 "nbformat": 4,
 "nbformat_minor": 5
}
