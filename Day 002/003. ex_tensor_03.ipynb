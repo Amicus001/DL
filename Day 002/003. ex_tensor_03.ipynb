{
 "cells": [
  {
   "cell_type": "markdown",
   "source": [
    "### 행렬 곱셈\n",
    "- 피처와 가중치 연산에 활용\n",
    "- tensor.matmul()"
   ],
   "metadata": {
    "collapsed": false
   },
   "id": "dbe42c62dd54d6a"
  },
  {
   "cell_type": "code",
   "outputs": [],
   "source": [
    "import torch"
   ],
   "metadata": {
    "collapsed": false,
    "ExecuteTime": {
     "end_time": "2024-03-12T04:14:23.595198Z",
     "start_time": "2024-03-12T04:14:22.315896Z"
    }
   },
   "id": "1b2e097fb3172c40",
   "execution_count": 1
  },
  {
   "cell_type": "code",
   "outputs": [],
   "source": [
    "data = torch.tensor([[1,2],[3,4]])\n",
    "w = torch.tensor([7])"
   ],
   "metadata": {
    "collapsed": false,
    "ExecuteTime": {
     "end_time": "2024-03-12T04:15:15.059254Z",
     "start_time": "2024-03-12T04:15:15.047265Z"
    }
   },
   "id": "af943b25d55c35db",
   "execution_count": 2
  },
  {
   "cell_type": "code",
   "outputs": [
    {
     "name": "stdout",
     "output_type": "stream",
     "text": [
      "data.shape = torch.Size([2, 2])\n",
      "w.shape = torch.Size([1])\n"
     ]
    }
   ],
   "source": [
    "print(f'data.shape = {data.shape}')\n",
    "print(f'w.shape = {w.shape}')"
   ],
   "metadata": {
    "collapsed": false,
    "ExecuteTime": {
     "end_time": "2024-03-12T04:15:36.387609Z",
     "start_time": "2024-03-12T04:15:36.381630Z"
    }
   },
   "id": "d0f96e3f7a4adce6",
   "execution_count": 3
  },
  {
   "cell_type": "code",
   "outputs": [
    {
     "name": "stdout",
     "output_type": "stream",
     "text": [
      "data.mul(w) = tensor([[ 7, 14],\n",
      "        [21, 28]])\n"
     ]
    }
   ],
   "source": [
    "# 원소 단위 곱셈 : 인덱스에 1:1 대응 브로드캐스팅\n",
    "print(f'data.mul(w) = {data.mul(w)}')"
   ],
   "metadata": {
    "collapsed": false,
    "ExecuteTime": {
     "end_time": "2024-03-12T04:16:44.456451Z",
     "start_time": "2024-03-12T04:16:44.442028Z"
    }
   },
   "id": "5fa998c68cf96c13",
   "execution_count": 4
  },
  {
   "cell_type": "code",
   "outputs": [
    {
     "name": "stdout",
     "output_type": "stream",
     "text": [
      "data.matmul(w2)\n",
      "tensor([[23],\n",
      "        [53]])\n"
     ]
    }
   ],
   "source": [
    "#행렬단위 곱셈 = 행 * 열 : (행, 열) * (원소 수)\n",
    "w = torch.tensor([7])\n",
    "# print(f'data.matmul(w) ; {data.matmul(w)') <- 죽음\n",
    "\n"
   ],
   "metadata": {
    "collapsed": false,
    "ExecuteTime": {
     "end_time": "2024-03-12T04:19:12.240068Z",
     "start_time": "2024-03-12T04:19:12.213282Z"
    }
   },
   "id": "e6159623956ee1",
   "execution_count": 5
  },
  {
   "cell_type": "code",
   "outputs": [],
   "source": [
    "#행렬단위 곱셈 = 행 * 열 : (행, 열) * (행, 열)\n",
    "w2 = torch.tensor([[7],[8]])\n",
    "print(f'data.matmul(w2)\\n{data.matmul(w2)}')"
   ],
   "metadata": {
    "collapsed": false
   },
   "id": "4211bd5c45e2a7fd"
  }
 ],
 "metadata": {
  "kernelspec": {
   "display_name": "Python 3",
   "language": "python",
   "name": "python3"
  },
  "language_info": {
   "codemirror_mode": {
    "name": "ipython",
    "version": 2
   },
   "file_extension": ".py",
   "mimetype": "text/x-python",
   "name": "python",
   "nbconvert_exporter": "python",
   "pygments_lexer": "ipython2",
   "version": "2.7.6"
  }
 },
 "nbformat": 4,
 "nbformat_minor": 5
}
